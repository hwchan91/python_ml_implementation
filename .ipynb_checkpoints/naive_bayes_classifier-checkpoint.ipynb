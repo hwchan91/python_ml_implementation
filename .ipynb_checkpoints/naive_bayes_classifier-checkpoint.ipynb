{
 "cells": [
  {
   "cell_type": "code",
   "execution_count": 1,
   "metadata": {},
   "outputs": [],
   "source": [
    "import numpy as np\n",
    "import pandas as pd"
   ]
  },
  {
   "cell_type": "code",
   "execution_count": 284,
   "metadata": {},
   "outputs": [
    {
     "data": {
      "text/html": [
       "<div>\n",
       "<style scoped>\n",
       "    .dataframe tbody tr th:only-of-type {\n",
       "        vertical-align: middle;\n",
       "    }\n",
       "\n",
       "    .dataframe tbody tr th {\n",
       "        vertical-align: top;\n",
       "    }\n",
       "\n",
       "    .dataframe thead th {\n",
       "        text-align: right;\n",
       "    }\n",
       "</style>\n",
       "<table border=\"1\" class=\"dataframe\">\n",
       "  <thead>\n",
       "    <tr style=\"text-align: right;\">\n",
       "      <th></th>\n",
       "      <th>NumTimesPrg</th>\n",
       "      <th>PlGlcConc</th>\n",
       "      <th>BloodP</th>\n",
       "      <th>SkinThick</th>\n",
       "      <th>TwoHourSerIns</th>\n",
       "      <th>BMI</th>\n",
       "      <th>DiPedFunc</th>\n",
       "      <th>Age</th>\n",
       "      <th>HasDiabetes</th>\n",
       "    </tr>\n",
       "  </thead>\n",
       "  <tbody>\n",
       "    <tr>\n",
       "      <th>0</th>\n",
       "      <td>6</td>\n",
       "      <td>148</td>\n",
       "      <td>72</td>\n",
       "      <td>35</td>\n",
       "      <td>0</td>\n",
       "      <td>33.6</td>\n",
       "      <td>0.627</td>\n",
       "      <td>50</td>\n",
       "      <td>1</td>\n",
       "    </tr>\n",
       "    <tr>\n",
       "      <th>1</th>\n",
       "      <td>1</td>\n",
       "      <td>85</td>\n",
       "      <td>66</td>\n",
       "      <td>29</td>\n",
       "      <td>0</td>\n",
       "      <td>26.6</td>\n",
       "      <td>0.351</td>\n",
       "      <td>31</td>\n",
       "      <td>0</td>\n",
       "    </tr>\n",
       "    <tr>\n",
       "      <th>2</th>\n",
       "      <td>8</td>\n",
       "      <td>183</td>\n",
       "      <td>64</td>\n",
       "      <td>0</td>\n",
       "      <td>0</td>\n",
       "      <td>23.3</td>\n",
       "      <td>0.672</td>\n",
       "      <td>32</td>\n",
       "      <td>1</td>\n",
       "    </tr>\n",
       "    <tr>\n",
       "      <th>3</th>\n",
       "      <td>1</td>\n",
       "      <td>89</td>\n",
       "      <td>66</td>\n",
       "      <td>23</td>\n",
       "      <td>94</td>\n",
       "      <td>28.1</td>\n",
       "      <td>0.167</td>\n",
       "      <td>21</td>\n",
       "      <td>0</td>\n",
       "    </tr>\n",
       "    <tr>\n",
       "      <th>4</th>\n",
       "      <td>0</td>\n",
       "      <td>137</td>\n",
       "      <td>40</td>\n",
       "      <td>35</td>\n",
       "      <td>168</td>\n",
       "      <td>43.1</td>\n",
       "      <td>2.288</td>\n",
       "      <td>33</td>\n",
       "      <td>1</td>\n",
       "    </tr>\n",
       "  </tbody>\n",
       "</table>\n",
       "</div>"
      ],
      "text/plain": [
       "   NumTimesPrg  PlGlcConc  BloodP  SkinThick  TwoHourSerIns   BMI  DiPedFunc  \\\n",
       "0            6        148      72         35              0  33.6      0.627   \n",
       "1            1         85      66         29              0  26.6      0.351   \n",
       "2            8        183      64          0              0  23.3      0.672   \n",
       "3            1         89      66         23             94  28.1      0.167   \n",
       "4            0        137      40         35            168  43.1      2.288   \n",
       "\n",
       "   Age  HasDiabetes  \n",
       "0   50            1  \n",
       "1   31            0  \n",
       "2   32            1  \n",
       "3   21            0  \n",
       "4   33            1  "
      ]
     },
     "execution_count": 284,
     "metadata": {},
     "output_type": "execute_result"
    }
   ],
   "source": [
    "df = pd.read_csv(\n",
    "    'pima-indians-diabetes.csv',\n",
    "    header=None, \n",
    "    names = [\n",
    "        \"NumTimesPrg\", \n",
    "        \"PlGlcConc\", \n",
    "        \"BloodP\",\n",
    "        \"SkinThick\", \n",
    "        \"TwoHourSerIns\", \n",
    "        \"BMI\",\n",
    "        \"DiPedFunc\", \n",
    "        \"Age\", \n",
    "        \"HasDiabetes\"\n",
    "    ]\n",
    ")\n",
    "df.head()"
   ]
  },
  {
   "cell_type": "code",
   "execution_count": 285,
   "metadata": {},
   "outputs": [],
   "source": [
    "from sklearn.model_selection import train_test_split"
   ]
  },
  {
   "cell_type": "code",
   "execution_count": 286,
   "metadata": {},
   "outputs": [],
   "source": [
    "from sklearn.preprocessing import LabelEncoder\n",
    "class_le = LabelEncoder()\n",
    "X = df.iloc[:, :-1].values\n",
    "y = class_le.fit_transform(df.iloc[:, -1].values)\n",
    "\n",
    "X_train, X_test, y_train, y_test = train_test_split(X, y, test_size=1/3.0, random_state=0)"
   ]
  },
  {
   "cell_type": "code",
   "execution_count": 290,
   "metadata": {},
   "outputs": [],
   "source": [
    "class NaiveBayesClassifier:\n",
    "    def fit(self, X, y):\n",
    "        self.summaries = self.get_summaries(X, y)\n",
    "        \n",
    "    def get_summaries(self, X, y):\n",
    "        summaries = []\n",
    "        for i in range(len(set(y))):\n",
    "            grouped = X[np.where(y == i)[0]]\n",
    "            summaries.append({\n",
    "                'means': np.mean(grouped, axis=0),\n",
    "                'variances': np.var(grouped,axis=0)\n",
    "            })\n",
    "        return summaries\n",
    "\n",
    "    def predict(self, X):\n",
    "        probabilities = self.calculateClassProbabilities(self.summaries, X)\n",
    "        return np.argmax(probabilities, axis=0)\n",
    "        \n",
    "    def predict_proba(self, X):\n",
    "        self.calculateClassProbabilities(self.summaries, X)\n",
    "\n",
    "    def calculateClassProbabilities(self, summaries, X):\n",
    "        probabilities = []\n",
    "        for classSummaries in summaries:\n",
    "            probabilities.append(calculateProbability(X, classSummaries['means'], classSummaries['variances']))    \n",
    "        return probabilities\n",
    "\n",
    "    # Gaussian model prob of one feature(x) in whole sample: \n",
    "    # P(x|w) = 1/sqrt(2*pi*var)*exp(-(x-mean)^2/(2*var)) \n",
    "    # prob of matching all features = product of all P(x|w)\n",
    "    def calculateProbability(self, X, means, variances):\n",
    "        exponent = np.exp(-((X - means) ** 2) / (2 * variances))\n",
    "        probs = (1 / np.sqrt(2 * math.pi * variances)) * exponent\n",
    "        return np.prod(probs, axis=1)"
   ]
  },
  {
   "cell_type": "code",
   "execution_count": 288,
   "metadata": {},
   "outputs": [
    {
     "name": "stdout",
     "output_type": "stream",
     "text": [
      "Train accuracy:\n",
      "0.765625\n",
      "Test accuracy:\n",
      "0.7265625\n"
     ]
    }
   ],
   "source": [
    "bayes = NaiveBayesClassifier()\n",
    "bayes.fit(X_train,y_train)\n",
    "predictions = bayes.predict(X_train)\n",
    "print('Train accuracy:')\n",
    "print(sum(predictions == y_train) / len(y_train))\n",
    "print('Test accuracy:')\n",
    "predictions = bayes.predict(X_test)\n",
    "print(sum(predictions == y_test) / len(y_test))"
   ]
  },
  {
   "cell_type": "code",
   "execution_count": 289,
   "metadata": {},
   "outputs": [
    {
     "name": "stdout",
     "output_type": "stream",
     "text": [
      "Train accuracy:\n",
      "0.771484375\n",
      "Test accuracy:\n",
      "0.75\n"
     ]
    }
   ],
   "source": [
    "# using sklearn\n",
    "from sklearn.naive_bayes import GaussianNB\n",
    "clf = GaussianNB()\n",
    "clf.fit(X_train, y_train)\n",
    "predictions = clf.predict(X_train)\n",
    "print('Train accuracy:')\n",
    "print(sum(predictions == y_train) / len(y_train))\n",
    "print('Test accuracy:')\n",
    "predictions = clf.predict(X_test)\n",
    "print(sum(predictions == y_test) / len(y_test))"
   ]
  }
 ],
 "metadata": {
  "kernelspec": {
   "display_name": "Python 3",
   "language": "python",
   "name": "python3"
  },
  "language_info": {
   "codemirror_mode": {
    "name": "ipython",
    "version": 3
   },
   "file_extension": ".py",
   "mimetype": "text/x-python",
   "name": "python",
   "nbconvert_exporter": "python",
   "pygments_lexer": "ipython3",
   "version": "3.6.8"
  }
 },
 "nbformat": 4,
 "nbformat_minor": 2
}
