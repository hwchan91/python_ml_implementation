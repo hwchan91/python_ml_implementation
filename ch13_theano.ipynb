{
 "cells": [
  {
   "cell_type": "code",
   "execution_count": 1,
   "metadata": {},
   "outputs": [],
   "source": [
    "# conda install theano; at time of writing, need to downgrade numpy version to 1.15 (conda install numpy=1.15)"
   ]
  },
  {
   "cell_type": "code",
   "execution_count": 3,
   "metadata": {},
   "outputs": [],
   "source": [
    "# config theano to use GPU, must be done before theano is imported\n",
    "import os    \n",
    "os.environ['THEANO_FLAGS'] = \"device=cuda,mode=FAST_RUN,floatX=float32\"    "
   ]
  },
  {
   "cell_type": "code",
   "execution_count": 4,
   "metadata": {},
   "outputs": [],
   "source": [
    "import numpy as np\n",
    "import theano\n",
    "from theano import tensor as T"
   ]
  },
  {
   "cell_type": "code",
   "execution_count": 15,
   "metadata": {},
   "outputs": [
    {
     "data": {
      "text/plain": [
       "array([1, 2, 3])"
      ]
     },
     "execution_count": 15,
     "metadata": {},
     "output_type": "execute_result"
    }
   ],
   "source": [
    "np.array([1,2,3])"
   ]
  },
  {
   "cell_type": "code",
   "execution_count": 16,
   "metadata": {},
   "outputs": [
    {
     "data": {
      "text/plain": [
       "array(2.5, dtype=float32)"
      ]
     },
     "execution_count": 16,
     "metadata": {},
     "output_type": "execute_result"
    }
   ],
   "source": [
    "x1 = T.scalar()\n",
    "w1 = T.scalar()\n",
    "w0 = T.scalar()\n",
    "z1 = w1 * x1 + w0\n",
    "\n",
    "net_input = theano.function(inputs=[w1, x1, w0], outputs=z1)\n",
    "\n",
    "net_input(2.0, 1.0, 0.5)"
   ]
  },
  {
   "cell_type": "code",
   "execution_count": 17,
   "metadata": {},
   "outputs": [
    {
     "name": "stdout",
     "output_type": "stream",
     "text": [
      "Column sum: [2. 4. 6.]\n",
      "Column sum: [2. 4. 6.]\n"
     ]
    }
   ],
   "source": [
    "# initialize variables, compile fuction, execute function\n",
    "\n",
    "x = T.fmatrix(name='x')\n",
    "x_sum = T.sum(x, axis=0)\n",
    "\n",
    "calc_sum = theano.function(inputs=[x], outputs=x_sum)\n",
    "\n",
    "# execute (Python list)\n",
    "ary = [[1, 2, 3], [1, 2, 3]]\n",
    "print('Column sum:', calc_sum(ary))\n",
    "\n",
    " # execute (NumPy array)\n",
    "ary = np.array([[1, 2, 3], [1, 2, 3]], dtype=theano.config.floatX)\n",
    "print('Column sum:', calc_sum(ary))"
   ]
  },
  {
   "cell_type": "code",
   "execution_count": 18,
   "metadata": {},
   "outputs": [
    {
     "name": "stdout",
     "output_type": "stream",
     "text": [
      "z0: [[0.]]\n",
      "z1: [[6.]]\n",
      "z2: [[12.]]\n",
      "z3: [[18.]]\n",
      "z4: [[24.]]\n"
     ]
    }
   ],
   "source": [
    "# updating variable per execution: \n",
    "# every time the function is called, the updates variables(i.e. w) gets updated at the end of the execution\n",
    "\n",
    "x = T.fmatrix('x')\n",
    "w = theano.shared(np.asarray([[0.0, 0.0, 0.0]], dtype=theano.config.floatX))\n",
    "z = x.dot(w.T)\n",
    "update = [[w, w + 1.0]]\n",
    "\n",
    "net_input = theano.function(\n",
    "  inputs=[x],\n",
    "  updates=update, # update target must be a SharedVariable\n",
    "  outputs=z\n",
    ")\n",
    "\n",
    "data = np.array([[1, 2, 3]], dtype=theano.config.floatX)\n",
    "for i in range(5):\n",
    "    print('z%d:' % i, net_input(data))"
   ]
  },
  {
   "cell_type": "code",
   "execution_count": 19,
   "metadata": {},
   "outputs": [
    {
     "name": "stdout",
     "output_type": "stream",
     "text": [
      "z0: [[0.]]\n",
      "z1: [[6.]]\n",
      "z2: [[12.]]\n",
      "z3: [[18.]]\n",
      "z4: [[24.]]\n"
     ]
    }
   ],
   "source": [
    "# same code as above, \n",
    "# except instead of passing :data into :inputs (where memory is transferred from CPU to GPU every iteration)\n",
    "# :data is included in :givens, allowing memory to stay in GPU\n",
    "x = T.fmatrix('var_x')\n",
    "w = theano.shared(np.asarray([[0.0, 0.0, 0.0]], dtype=theano.config.floatX))\n",
    "z = x.dot(w.T)\n",
    "update = [[w, w + 1.0]]\n",
    "\n",
    "net_input = theano.function(\n",
    "  inputs=[],\n",
    "  updates=update, # update target must be a SharedVariable\n",
    "  givens ={x: data}, # givens is a dict that maps variable name to an actual object\n",
    "  outputs=z\n",
    ")\n",
    "\n",
    "data = np.array([[1, 2, 3]], dtype=theano.config.floatX)\n",
    "for i in range(5):\n",
    "    print('z%d:' % i, net_input())"
   ]
  },
  {
   "cell_type": "code",
   "execution_count": 20,
   "metadata": {},
   "outputs": [],
   "source": [
    "# note: setting dtype when creating array so that code would accomodate when theano floatX changes\n",
    "X_train = np.asarray(\n",
    "    [\n",
    "        [0.0], \n",
    "        [1.0],\n",
    "        [2.0],\n",
    "        [3.0],\n",
    "        [4.0],\n",
    "        [5.0],\n",
    "        [6.0],\n",
    "        [7.0],\n",
    "        [8.0],\n",
    "        [9.0]\n",
    "    ],\n",
    "    dtype = theano.config.floatX\n",
    ")\n",
    "y_train = np.asarray(\n",
    "    [\n",
    "        1.0,\n",
    "        1.3,\n",
    "        3.1,\n",
    "        2.0,\n",
    "        5.0,\n",
    "        6.3,\n",
    "        6.6,\n",
    "        7.4,\n",
    "        8.0,\n",
    "        9.0\n",
    "    ],\n",
    "    dtype = theano.config.floatX\n",
    ")"
   ]
  },
  {
   "cell_type": "code",
   "execution_count": 21,
   "metadata": {},
   "outputs": [],
   "source": [
    "def train_linreg(X_train, y_train, eta, epochs):\n",
    "    costs = []\n",
    "    eta0 = T.fscalar('eta0')\n",
    "    y = T.fvector(name = 'y')\n",
    "    X = T.fmatrix(name = 'X')\n",
    "    w = theano.shared(\n",
    "            np.zeros(\n",
    "                shape=(X_train.shape[1] + 1), \n",
    "                dtype = theano.config.floatX\n",
    "            ), \n",
    "            name = 'w'\n",
    "        )\n",
    "    \n",
    "    net_input = T.dot(X, w[1:]) + w[0]\n",
    "    errors = y - net_input\n",
    "    cost = T.sum(T.pow(errors, 2)) # sum of square diff/ordinary least squares\n",
    "    \n",
    "    gradient = T.grad(cost, wrt=w) # automatically calc d(sigma(y^2))/dw\n",
    "    update = [\n",
    "        [w, w - eta0 * gradient]\n",
    "    ]\n",
    "    \n",
    "    train = theano.function(\n",
    "        inputs=[eta0],\n",
    "        outputs=cost,\n",
    "        updates=update,\n",
    "        givens = {\n",
    "            X: X_train,\n",
    "            y: y_train\n",
    "        }\n",
    "    )\n",
    "    \n",
    "    for _ in range(epochs):\n",
    "        costs.append(train(eta))\n",
    "    \n",
    "    return costs, w"
   ]
  },
  {
   "cell_type": "code",
   "execution_count": 22,
   "metadata": {},
   "outputs": [
    {
     "data": {
      "image/png": "[encoded data removed]",
      "text/plain": [
       "<Figure size 432x288 with 1 Axes>"
      ]
     },
     "metadata": {
      "needs_background": "light"
     },
     "output_type": "display_data"
    }
   ],
   "source": [
    "import matplotlib.pyplot as plt\n",
    "\n",
    "costs, w = train_linreg(X_train, y_train, eta=0.001, epochs=10)\n",
    "plt.plot(range(1, len(costs)+1), costs)\n",
    "plt.tight_layout()\n",
    "plt.xlabel('Epoch')\n",
    "plt.ylabel('Cost')\n",
    "plt.show()"
   ]
  },
  {
   "cell_type": "code",
   "execution_count": 23,
   "metadata": {},
   "outputs": [],
   "source": [
    "def predict_linreg(X, w):\n",
    "    Xt = T.matrix(name='X')\n",
    "    net_input = T.dot(Xt, w[1:]) + w[0]\n",
    "    predict = theano.function(inputs=[Xt],\n",
    "                             givens={w: w},\n",
    "                             outputs=net_input)\n",
    "    return predict(X)"
   ]
  },
  {
   "cell_type": "code",
   "execution_count": 24,
   "metadata": {},
   "outputs": [
    {
     "data": {
      "text/plain": [
       "Text(0, 0.5, 'y')"
      ]
     },
     "execution_count": 24,
     "metadata": {},
     "output_type": "execute_result"
    },
    {
     "data": {
      "image/png": "[encoded data removed]",
      "text/plain": [
       "<Figure size 432x288 with 1 Axes>"
      ]
     },
     "metadata": {
      "needs_background": "light"
     },
     "output_type": "display_data"
    }
   ],
   "source": [
    "plt.scatter(X_train, y_train, marker='s', s=50)\n",
    "plt.plot(\n",
    "    range(X_train.shape[0]), \n",
    "    predict_linreg(X_train, w),\n",
    "    color='gray',\n",
    "    marker='o',\n",
    "    markersize=4,\n",
    "    linewidth=3\n",
    ")\n",
    "plt.xlabel('x')\n",
    "plt.ylabel('y')"
   ]
  },
  {
   "cell_type": "code",
   "execution_count": 5,
   "metadata": {},
   "outputs": [
    {
     "name": "stdout",
     "output_type": "stream",
     "text": [
      "Rows: 60000, columns: 784\n",
      "Rows: 10000, columns: 784\n"
     ]
    }
   ],
   "source": [
    "# from ch12, same\n",
    "import numpy as np\n",
    "import pandas as pd\n",
    "import matplotlib.pyplot as plt\n",
    "import os\n",
    "import struct\n",
    "\n",
    "def load_mnist(path, kind='train'):\n",
    "    labels_path = '{}-labels-idx1-ubyte'.format(kind)\n",
    "    images_path = '{}-images-idx3-ubyte'.format(kind)\n",
    "    with open(labels_path, 'rb') as lbpath:\n",
    "        magic, n = struct.unpack('>II', lbpath.read(8))\n",
    "        labels = np.fromfile(lbpath, dtype=np.uint8)\n",
    "    with open(images_path, 'rb') as imgpath:\n",
    "        magic, num, rows, cols = struct.unpack('>IIII', imgpath.read(16))\n",
    "        images = np.fromfile(imgpath, dtype=np.uint8).reshape(len(labels), 784) # 784=28x28 pixel images\n",
    "    return images, labels\n",
    "\n",
    "X_train, y_train = load_mnist('.', kind='train')\n",
    "print('Rows: %d, columns: %d' % (X_train.shape[0], X_train.shape[1]))\n",
    "X_test, y_test = load_mnist('mnist', kind='t10k')\n",
    "print('Rows: %d, columns: %d' % (X_test.shape[0], X_test.shape[1]))"
   ]
  },
  {
   "cell_type": "code",
   "execution_count": 6,
   "metadata": {},
   "outputs": [
    {
     "name": "stdout",
     "output_type": "stream",
     "text": [
      "First 3 labels:  [5 0 4]\n",
      "\n",
      "First 3 labels (one-hot):\n",
      " [[0. 0. 0. 0. 0. 1. 0. 0. 0. 0.]\n",
      " [1. 0. 0. 0. 0. 0. 0. 0. 0. 0.]\n",
      " [0. 0. 0. 0. 1. 0. 0. 0. 0. 0.]]\n"
     ]
    }
   ],
   "source": [
    "from keras.utils import np_utils\n",
    "\n",
    "X_train = X_train.astype(theano.config.floatX)\n",
    "X_test = X_test.astype(theano.config.floatX)\n",
    "print('First 3 labels: ', y_train[:3])\n",
    "y_train_ohe = np_utils.to_categorical(y_train)\n",
    "print('\\nFirst 3 labels (one-hot):\\n', y_train_ohe[:3])"
   ]
  },
  {
   "cell_type": "code",
   "execution_count": 7,
   "metadata": {},
   "outputs": [
    {
     "data": {
      "text/plain": [
       "(60000, 784)"
      ]
     },
     "execution_count": 7,
     "metadata": {},
     "output_type": "execute_result"
    }
   ],
   "source": [
    "X_train.shape"
   ]
  },
  {
   "cell_type": "code",
   "execution_count": 8,
   "metadata": {},
   "outputs": [],
   "source": [
    "from keras.models import Sequential\n",
    "from keras.layers.core import Dense\n",
    "from keras.optimizers import SGD\n",
    "\n",
    "np.random.seed(1)\n",
    "\n",
    "model = Sequential() # feed forward network\n",
    "# 3 layers network\n",
    "# Note on actiation used\n",
    "# tanh - similar to sigmoid functio but ranges from -1 to 1, thus likely to fasten convergence\n",
    "# softmax - divide prob result by sum of probs so that the result sums up to 1, i.e predict_proba\n",
    "\n",
    "# first layer (784, 50)\n",
    "model.add(\n",
    "    Dense(\n",
    "        50, #output units\n",
    "        input_dim=X_train.shape[1],\n",
    "        kernel_initializer='uniform',\n",
    "        activation='tanh'\n",
    "    )\n",
    ")\n",
    "# second layer (50, 50)\n",
    "model.add(\n",
    "    Dense(\n",
    "        50,\n",
    "        input_dim=50,\n",
    "        kernel_initializer='uniform',\n",
    "        activation='tanh'\n",
    "    )\n",
    ")\n",
    "# output layer (50, 10)\n",
    "model.add(\n",
    "    Dense(\n",
    "        y_train_ohe.shape[1],\n",
    "        input_dim=50,\n",
    "        kernel_initializer='uniform',\n",
    "        activation='softmax'\n",
    "    )\n",
    ")\n",
    "sgd = SGD(lr=0.001, decay=1e-7, momentum=.9)# (mini-batch) stochastic gradient descent, SGD\n",
    "model.compile(loss='categorical_crossentropy', optimizer=sgd, metrics=['accuracy'])# crossentropy=cost function of log regression; categorical_crossentropy=cost for multi-class result"
   ]
  },
  {
   "cell_type": "code",
   "execution_count": 9,
   "metadata": {},
   "outputs": [
    {
     "name": "stdout",
     "output_type": "stream",
     "text": [
      "Train on 54000 samples, validate on 6000 samples\n",
      "Epoch 1/50\n",
      "54000/54000 [==============================] - 2s 37us/step - loss: 2.2207 - acc: 0.4292 - val_loss: 2.0862 - val_acc: 0.6278\n",
      "Epoch 2/50\n",
      "54000/54000 [==============================] - 1s 20us/step - loss: 1.8302 - acc: 0.6197 - val_loss: 1.5070 - val_acc: 0.6513\n",
      "Epoch 3/50\n",
      "54000/54000 [==============================] - 1s 26us/step - loss: 1.2998 - acc: 0.6581 - val_loss: 1.0754 - val_acc: 0.7245\n",
      "Epoch 4/50\n",
      "54000/54000 [==============================] - 1s 26us/step - loss: 0.9820 - acc: 0.7484 - val_loss: 0.8198 - val_acc: 0.8088\n",
      "Epoch 5/50\n",
      "54000/54000 [==============================] - 1s 20us/step - loss: 0.7790 - acc: 0.8072 - val_loss: 0.6519 - val_acc: 0.8612\n",
      "Epoch 6/50\n",
      "54000/54000 [==============================] - 1s 27us/step - loss: 0.6452 - acc: 0.8505 - val_loss: 0.5466 - val_acc: 0.8868\n",
      "Epoch 7/50\n",
      "54000/54000 [==============================] - 2s 28us/step - loss: 0.5569 - acc: 0.8686 - val_loss: 0.4685 - val_acc: 0.8985\n",
      "Epoch 8/50\n",
      "54000/54000 [==============================] - 1s 23us/step - loss: 0.4925 - acc: 0.8809 - val_loss: 0.4284 - val_acc: 0.9012\n",
      "Epoch 9/50\n",
      "54000/54000 [==============================] - 2s 28us/step - loss: 0.4525 - acc: 0.8881 - val_loss: 0.3885 - val_acc: 0.9105\n",
      "Epoch 10/50\n",
      "54000/54000 [==============================] - 2s 29us/step - loss: 0.4242 - acc: 0.8911 - val_loss: 0.3570 - val_acc: 0.9118\n",
      "Epoch 11/50\n",
      "54000/54000 [==============================] - 1s 25us/step - loss: 0.3958 - acc: 0.8969 - val_loss: 0.3465 - val_acc: 0.9162\n",
      "Epoch 12/50\n",
      "54000/54000 [==============================] - 1s 24us/step - loss: 0.3798 - acc: 0.8987 - val_loss: 0.3207 - val_acc: 0.9190\n",
      "Epoch 13/50\n",
      "54000/54000 [==============================] - 1s 27us/step - loss: 0.3593 - acc: 0.9037 - val_loss: 0.3147 - val_acc: 0.9183\n",
      "Epoch 14/50\n",
      "54000/54000 [==============================] - 1s 25us/step - loss: 0.3468 - acc: 0.9079 - val_loss: 0.2906 - val_acc: 0.9203\n",
      "Epoch 15/50\n",
      "54000/54000 [==============================] - 1s 23us/step - loss: 0.3336 - acc: 0.9087 - val_loss: 0.2993 - val_acc: 0.9175\n",
      "Epoch 16/50\n",
      "54000/54000 [==============================] - 2s 32us/step - loss: 0.3325 - acc: 0.9087 - val_loss: 0.2834 - val_acc: 0.9240\n",
      "Epoch 17/50\n",
      "54000/54000 [==============================] - 1s 27us/step - loss: 0.3167 - acc: 0.9131 - val_loss: 0.2861 - val_acc: 0.9232\n",
      "Epoch 18/50\n",
      "54000/54000 [==============================] - 1s 24us/step - loss: 0.3089 - acc: 0.9155 - val_loss: 0.2697 - val_acc: 0.9257\n",
      "Epoch 19/50\n",
      "54000/54000 [==============================] - 1s 24us/step - loss: 0.3033 - acc: 0.9159 - val_loss: 0.2552 - val_acc: 0.9300\n",
      "Epoch 20/50\n",
      "54000/54000 [==============================] - 1s 27us/step - loss: 0.2977 - acc: 0.9167 - val_loss: 0.2438 - val_acc: 0.9327\n",
      "Epoch 21/50\n",
      "54000/54000 [==============================] - 1s 25us/step - loss: 0.2948 - acc: 0.9167 - val_loss: 0.2480 - val_acc: 0.9295\n",
      "Epoch 22/50\n",
      "54000/54000 [==============================] - 1s 24us/step - loss: 0.2824 - acc: 0.9203 - val_loss: 0.2403 - val_acc: 0.9328\n",
      "Epoch 23/50\n",
      "54000/54000 [==============================] - 1s 27us/step - loss: 0.2771 - acc: 0.9228 - val_loss: 0.2365 - val_acc: 0.9338\n",
      "Epoch 24/50\n",
      "54000/54000 [==============================] - 1s 24us/step - loss: 0.2785 - acc: 0.9223 - val_loss: 0.2336 - val_acc: 0.9345\n",
      "Epoch 25/50\n",
      "54000/54000 [==============================] - 1s 23us/step - loss: 0.2686 - acc: 0.9241 - val_loss: 0.2281 - val_acc: 0.9380\n",
      "Epoch 26/50\n",
      "54000/54000 [==============================] - 2s 29us/step - loss: 0.2614 - acc: 0.9264 - val_loss: 0.2262 - val_acc: 0.9368\n",
      "Epoch 27/50\n",
      "54000/54000 [==============================] - 2s 28us/step - loss: 0.2614 - acc: 0.9257 - val_loss: 0.2155 - val_acc: 0.9390\n",
      "Epoch 28/50\n",
      "54000/54000 [==============================] - 1s 24us/step - loss: 0.2588 - acc: 0.9271 - val_loss: 0.2260 - val_acc: 0.9353\n",
      "Epoch 29/50\n",
      "54000/54000 [==============================] - 2s 29us/step - loss: 0.2616 - acc: 0.9255 - val_loss: 0.2117 - val_acc: 0.9398\n",
      "Epoch 30/50\n",
      "54000/54000 [==============================] - 2s 30us/step - loss: 0.2551 - acc: 0.9261 - val_loss: 0.2221 - val_acc: 0.9360\n",
      "Epoch 31/50\n",
      "54000/54000 [==============================] - 1s 28us/step - loss: 0.2482 - acc: 0.9287 - val_loss: 0.2167 - val_acc: 0.9395\n",
      "Epoch 32/50\n",
      "54000/54000 [==============================] - 1s 22us/step - loss: 0.2420 - acc: 0.9319 - val_loss: 0.2137 - val_acc: 0.9382\n",
      "Epoch 33/50\n",
      "54000/54000 [==============================] - 2s 29us/step - loss: 0.2468 - acc: 0.9290 - val_loss: 0.2195 - val_acc: 0.9398\n",
      "Epoch 34/50\n",
      "54000/54000 [==============================] - 2s 30us/step - loss: 0.2412 - acc: 0.9289 - val_loss: 0.2107 - val_acc: 0.9405\n",
      "Epoch 35/50\n",
      "54000/54000 [==============================] - 1s 26us/step - loss: 0.2386 - acc: 0.9308 - val_loss: 0.2079 - val_acc: 0.9413\n",
      "Epoch 36/50\n",
      "54000/54000 [==============================] - 2s 29us/step - loss: 0.2394 - acc: 0.9311 - val_loss: 0.1963 - val_acc: 0.9468\n",
      "Epoch 37/50\n",
      "54000/54000 [==============================] - 2s 29us/step - loss: 0.2261 - acc: 0.9342 - val_loss: 0.1992 - val_acc: 0.9437\n",
      "Epoch 38/50\n",
      "54000/54000 [==============================] - 1s 27us/step - loss: 0.2237 - acc: 0.9348 - val_loss: 0.1992 - val_acc: 0.9438\n",
      "Epoch 39/50\n",
      "54000/54000 [==============================] - 1s 22us/step - loss: 0.2226 - acc: 0.9360 - val_loss: 0.1981 - val_acc: 0.9450\n",
      "Epoch 40/50\n",
      "54000/54000 [==============================] - 1s 28us/step - loss: 0.2227 - acc: 0.9346 - val_loss: 0.1889 - val_acc: 0.9463\n",
      "Epoch 41/50\n",
      "54000/54000 [==============================] - 2s 32us/step - loss: 0.2174 - acc: 0.9371 - val_loss: 0.1999 - val_acc: 0.9437\n",
      "Epoch 42/50\n",
      "54000/54000 [==============================] - 2s 29us/step - loss: 0.2226 - acc: 0.9354 - val_loss: 0.2007 - val_acc: 0.9423\n",
      "Epoch 43/50\n",
      "54000/54000 [==============================] - 1s 27us/step - loss: 0.2208 - acc: 0.9365 - val_loss: 0.1898 - val_acc: 0.9455\n",
      "Epoch 44/50\n",
      "54000/54000 [==============================] - 2s 28us/step - loss: 0.2188 - acc: 0.9357 - val_loss: 0.1849 - val_acc: 0.9452\n",
      "Epoch 45/50\n",
      "54000/54000 [==============================] - ETA: 0s - loss: 0.2101 - acc: 0.938 - 2s 28us/step - loss: 0.2102 - acc: 0.9385 - val_loss: 0.1851 - val_acc: 0.9505\n",
      "Epoch 46/50\n",
      "54000/54000 [==============================] - 2s 29us/step - loss: 0.2115 - acc: 0.9377 - val_loss: 0.1920 - val_acc: 0.9468\n",
      "Epoch 47/50\n",
      "54000/54000 [==============================] - 1s 25us/step - loss: 0.2159 - acc: 0.9352 - val_loss: 0.1943 - val_acc: 0.9413\n",
      "Epoch 48/50\n",
      "54000/54000 [==============================] - 1s 26us/step - loss: 0.2074 - acc: 0.9389 - val_loss: 0.1824 - val_acc: 0.9487\n",
      "Epoch 49/50\n",
      "54000/54000 [==============================] - 2s 30us/step - loss: 0.2006 - acc: 0.9409 - val_loss: 0.1812 - val_acc: 0.9473\n",
      "Epoch 50/50\n",
      "54000/54000 [==============================] - 2s 30us/step - loss: 0.2033 - acc: 0.9411 - val_loss: 0.1840 - val_acc: 0.9482\n"
     ]
    },
    {
     "data": {
      "text/plain": [
       "<keras.callbacks.History at 0x1c35a78e48>"
      ]
     },
     "execution_count": 9,
     "metadata": {},
     "output_type": "execute_result"
    }
   ],
   "source": [
    "model.fit(\n",
    "  X_train,\n",
    "  y_train_ohe,\n",
    "  epochs=50,\n",
    "  batch_size=300,\n",
    "  verbose=1,\n",
    "  validation_split=0.1,\n",
    ")"
   ]
  },
  {
   "cell_type": "code",
   "execution_count": 10,
   "metadata": {},
   "outputs": [],
   "source": [
    "y_train_pred = model.predict_classes(X_train, verbose=0)"
   ]
  },
  {
   "cell_type": "code",
   "execution_count": 11,
   "metadata": {},
   "outputs": [
    {
     "name": "stdout",
     "output_type": "stream",
     "text": [
      "First 3 predictions:  [5 0 4]\n"
     ]
    }
   ],
   "source": [
    "print('First 3 predictions: ', y_train_pred[:3])"
   ]
  },
  {
   "cell_type": "code",
   "execution_count": 12,
   "metadata": {},
   "outputs": [
    {
     "name": "stdout",
     "output_type": "stream",
     "text": [
      "Training accuracy: 94.26%\n"
     ]
    }
   ],
   "source": [
    "train_acc = np.sum(y_train == y_train_pred, axis=0) / X_train.shape[0]\n",
    "print('Training accuracy: %.2f%%' % (train_acc * 100))"
   ]
  },
  {
   "cell_type": "code",
   "execution_count": 13,
   "metadata": {},
   "outputs": [
    {
     "name": "stdout",
     "output_type": "stream",
     "text": [
      "Test accuracy: 93.76%\n"
     ]
    }
   ],
   "source": [
    "y_test_pred = model.predict_classes(X_test, verbose=0)\n",
    "test_acc = np.sum(y_test == y_test_pred, axis=0) / X_test.shape[0]\n",
    "print('Test accuracy: %.2f%%' % (test_acc * 100))"
   ]
  },
  {
   "cell_type": "code",
   "execution_count": null,
   "metadata": {},
   "outputs": [],
   "source": []
  }
 ],
 "metadata": {
  "kernelspec": {
   "display_name": "Python 3",
   "language": "python",
   "name": "python3"
  },
  "language_info": {
   "codemirror_mode": {
    "name": "ipython",
    "version": 3
   },
   "file_extension": ".py",
   "mimetype": "text/x-python",
   "name": "python",
   "nbconvert_exporter": "python",
   "pygments_lexer": "ipython3",
   "version": "3.6.8"
  }
 },
 "nbformat": 4,
 "nbformat_minor": 2
}
