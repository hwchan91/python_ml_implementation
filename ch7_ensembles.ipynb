{
 "cells": [
  {
   "cell_type": "code",
   "execution_count": 10,
   "metadata": {},
   "outputs": [],
   "source": [
    "import numpy as np\n",
    "import pandas as pd\n",
    "import matplotlib.pyplot as plt"
   ]
  },
  {
   "cell_type": "code",
   "execution_count": 11,
   "metadata": {},
   "outputs": [],
   "source": [
    "from sklearn import datasets\n",
    "from sklearn.model_selection import train_test_split\n",
    "from sklearn.preprocessing import StandardScaler\n",
    "from sklearn.preprocessing import LabelEncoder\n",
    "\n",
    "iris = datasets.load_iris()\n",
    "X, y = iris.data[50:, [1, 2]], iris.target[50:] #  sepal width and petal length of either class Iris-Versicolor or Iris-Virginica\n",
    "le = LabelEncoder()\n",
    "y = le.fit_transform(y) \n",
    "\n",
    "X_train, X_test, y_train, y_test = train_test_split(X, y, test_size=0.5, random_state=1)"
   ]
  },
  {
   "cell_type": "code",
   "execution_count": 12,
   "metadata": {},
   "outputs": [
    {
     "name": "stdout",
     "output_type": "stream",
     "text": [
      "classes: [1 2]\n",
      "transform [1,2]: [0 1]\n",
      "inverse transform [0,1]: [1 2]\n"
     ]
    }
   ],
   "source": [
    "# Reminder from Ch4\n",
    "# LabelEncoder transforms lables into 0 to n-1 classes\n",
    "print('classes: {}'.format(le.classes_))\n",
    "print('transform [1,2]: {}'.format(le.transform([1,2])))\n",
    "print('inverse transform [0,1]: {}'.format(le.inverse_transform([0,1])))"
   ]
  },
  {
   "cell_type": "code",
   "execution_count": 13,
   "metadata": {},
   "outputs": [],
   "source": [
    "# majority vote ensemble\n",
    "import operator\n",
    "\n",
    "from sklearn.base import BaseEstimator\n",
    "from sklearn.base import ClassifierMixin\n",
    "from sklearn.preprocessing import LabelEncoder\n",
    "from sklearn.externals import six\n",
    "from sklearn.base import clone\n",
    "from sklearn.pipeline import _name_estimators\n",
    "\n",
    "class MajorityVoteClassifier(BaseEstimator, ClassifierMixin):\n",
    "    # classiiers is an array of each of the individual classifier/pipeline used for voting\n",
    "    def __init__(self, classifiers, vote='classlabel', weights=None):\n",
    "        self.classifiers = classifiers\n",
    "        self.named_classifiers = { key: value for key, value in _name_estimators(classifiers) }\n",
    "        self.vote = vote\n",
    "        self.weights = weights # if none given, will calculate by equal weights\n",
    "                                  \n",
    "    def fit(self, X, y):\n",
    "        # ideally, the same label encoder can be reused, but since y is not passed it during init, it cannot be done\n",
    "        # note: in the example, relabelling is not actually necessary since it is already manipulated\n",
    "        self.lablenc_ = LabelEncoder()\n",
    "        self.lablenc_.fit(y)\n",
    "        self.classes_ = self.lablenc_.classes_\n",
    "        self.classifiers_ = [] # a better name would be fitted_classifier\n",
    "        \n",
    "        for clf in self.classifiers:\n",
    "            fitted_clf = clone(clf).fit(X, self.lablenc_.transform(y))\n",
    "            self.classifiers_.append(fitted_clf)\n",
    "        return self\n",
    "    \n",
    "    # following sklearn tradition, predict returns prediction of classlabels\n",
    "    def predict(self, X):\n",
    "        if self.vote == 'probability':\n",
    "            maj_vote = np.argmax(self.predict_proba(X), axis=1) # use predict_proba method; I feel should move argmax into the method\n",
    "        else:  # 'classlabel' vote, default\n",
    "            maj_vote = self.predict_label(X)\n",
    "        return maj_vote\n",
    "\n",
    "    # Note: cross_val_score calls #predict_proba to evaluate accuracy\n",
    "    # following sklearn tradition, predict_proba returns prediction of probabilities\n",
    "    def predict_proba(self, X):\n",
    "        # store each classifier's predict_proba scores in the array 'probas'\n",
    "        probas = np.asarray([clf.predict_proba(X) for clf in self.classifiers_])\n",
    "        # the following line seems somewhat of a hack, \n",
    "        # it calculates the averages of the classifiers scores for each sample\n",
    "        # and return the scores as an array, just like the original score array\n",
    "        # if not using this hack, will probably need to reshape the arrays\n",
    "        avg_proba = np.average(probas, axis=0, weights=self.weights)\n",
    "        return avg_proba\n",
    "        \n",
    "    def predict_label(self, X):\n",
    "        #  Collect results from clf.predict calls\n",
    "        predictions = np.asarray([clf.predict(X) for clf in self.classifiers_]).T\n",
    "        maj_vote = np.apply_along_axis(lambda x: np.argmax(np.bincount(x, weights=self.weights)), axis=1, arr=predictions)\n",
    "        maj_vote = self.lablenc_.inverse_transform(maj_vote)\n",
    "        return maj_vote\n",
    "        \n",
    "    def get_params(self, deep=True):\n",
    "        if not deep:\n",
    "            return super(MajorityVoteClassifier,self).get_params(deep=False)\n",
    "        else:\n",
    "            out = self.named_classifiers.copy() # hash { name_of_clf: clf_object, ... }\n",
    "            for name, step in six.iteritems(self.named_classifiers): # six.iteritems = dict.get_items() for python 3\n",
    "                for key, value in six.iteritems(step.get_params(deep=True)): # calls get_params method (defined by the clf) on the clf, return { param_name: val }\n",
    "                    out['%s__%s' % (name, key)] = value # prepend classifier name to each of the clf params\n",
    "            return out"
   ]
  },
  {
   "cell_type": "code",
   "execution_count": 17,
   "metadata": {},
   "outputs": [
    {
     "name": "stdout",
     "output_type": "stream",
     "text": [
      "Individual classifiers\n",
      "!0-fold cross validation:\n",
      "\n",
      "ROC AUC: 0.9166666666666667 (+/- 0.2006932429798716) [Logistic Regression]\n",
      "ROC AUC: 0.9166666666666667 (+/- 0.15365907428821476) [Decision Tree]\n",
      "ROC AUC: 0.9333333333333333 (+/- 0.10408329997330663) [KNN]\n"
     ]
    }
   ],
   "source": [
    "from sklearn.model_selection import cross_val_score\n",
    "from sklearn.linear_model import LogisticRegression\n",
    "from sklearn.tree import DecisionTreeClassifier\n",
    "from sklearn.neighbors import KNeighborsClassifier\n",
    "from sklearn.pipeline import Pipeline\n",
    "\n",
    "clf1 = LogisticRegression(penalty='l2', C=0.001, random_state=0, solver='lbfgs')\n",
    "clf2 = DecisionTreeClassifier(max_depth=11, criterion='entropy', random_state=0)\n",
    "clf3 = KNeighborsClassifier(n_neighbors=1, p=2, metric='minkowski')\n",
    "clf_labels = ['Logistic Regression', \"Decision Tree\", \"KNN\"]\n",
    "\n",
    "# note: Log Regression and KNN requires standardization, but Decision Tree does not\n",
    "pipe1 = Pipeline([\n",
    "    ['sc', StandardScaler()], \n",
    "    ['clf', clf1]\n",
    "])\n",
    "pipe3 = Pipeline([\n",
    "    ['sc', StandardScaler()], \n",
    "    ['clf', clf3]\n",
    "])  \n",
    "\n",
    "print (\"Individual classifiers\")\n",
    "print('!0-fold cross validation:\\n')\n",
    "\n",
    "for clf, label in zip([pipe1, clf2, pipe3], clf_labels):\n",
    "    scores = cross_val_score(\n",
    "        estimator=clf,\n",
    "        X=X_train,\n",
    "        y=y_train,\n",
    "        cv=10,\n",
    "        scoring='roc_auc'\n",
    "    )\n",
    "    print('ROC AUC: {} (+/- {}) [{}]'.format(scores.mean(), scores.std(), label))"
   ]
  },
  {
   "cell_type": "code",
   "execution_count": 18,
   "metadata": {},
   "outputs": [
    {
     "name": "stdout",
     "output_type": "stream",
     "text": [
      "+ Ensemble Classifier\n",
      "ROC AUC: 0.9166666666666667 (+/- 0.2006932429798716) [Logistic Regression]\n",
      "ROC AUC: 0.9166666666666667 (+/- 0.15365907428821476) [Decision Tree]\n",
      "ROC AUC: 0.9333333333333333 (+/- 0.10408329997330663) [KNN]\n",
      "ROC AUC: 0.9666666666666668 (+/- 0.09999999999999998) [Majority Voting]\n"
     ]
    }
   ],
   "source": [
    "print(\"+ Ensemble Classifier\")\n",
    "\n",
    "mv_clf = MajorityVoteClassifier(classifiers=[pipe1, clf2, pipe3])\n",
    "clf_labels += ['Majority Voting']\n",
    "all_clf = [pipe1, clf2, pipe3, mv_clf]\n",
    "for clf, label in zip(all_clf, clf_labels):\n",
    "    scores =  cross_val_score(\n",
    "        estimator=clf,\n",
    "        X=X_train,\n",
    "        y=y_train,\n",
    "        cv=10,\n",
    "        scoring='roc_auc'\n",
    "    )\n",
    "    print('ROC AUC: {} (+/- {}) [{}]'.format(scores.mean(), scores.std(), label))"
   ]
  },
  {
   "cell_type": "code",
   "execution_count": 19,
   "metadata": {},
   "outputs": [
    {
     "data": {
      "text/plain": [
       "Text(0, 0.5, 'True Positive Rate')"
      ]
     },
     "execution_count": 19,
     "metadata": {},
     "output_type": "execute_result"
    },
    {
     "data": {
      "image/png": "[encoded data removed]",
      "text/plain": [
       "<Figure size 432x288 with 1 Axes>"
      ]
     },
     "metadata": {
      "needs_background": "light"
     },
     "output_type": "display_data"
    }
   ],
   "source": [
    "from sklearn.metrics import roc_curve\n",
    "from sklearn.metrics import auc\n",
    "\n",
    "colors = ['black', 'orange', 'blue', 'green']\n",
    "linestyles = [':', '--', '-.', '-']\n",
    "\n",
    "for clf, label, clr, ls in zip(all_clf, clf_labels, colors, linestyles):\n",
    "    # assuming the label of the +ve class is 1\n",
    "    y_pred = clf.fit(X_train, y_train).predict_proba(X_test)[:, 1] # prob of positive class\n",
    "    fpr, tpr, thresholds = roc_curve(y_true=y_test, y_score=y_pred)\n",
    "    roc_auc = auc(x=fpr, y=tpr)\n",
    "    plt.plot(fpr, tpr, color=clr, linestyle=ls, label='{} (auc={})'.format(label, roc_auc))\n",
    "plt.legend(loc='lower right')\n",
    "plt.plot([0,1], [0,1], linestyle='--', color='gray', linewidth=2) # line for random guessing\n",
    "plt.xlim([-0.1, 1.1])\n",
    "plt.ylim([-0.1, 1.1])\n",
    "plt.grid()\n",
    "plt.xlabel(\"False Positive Rate\")\n",
    "plt.ylabel(\"True Positive Rate\")"
   ]
  },
  {
   "cell_type": "code",
   "execution_count": 20,
   "metadata": {},
   "outputs": [
    {
     "data": {
      "text/plain": [
       "Text(-10.5, 4.5, 'Petal length [standardized]')"
      ]
     },
     "execution_count": 20,
     "metadata": {},
     "output_type": "execute_result"
    },
    {
     "data": {
      "image/png": "[encoded data removed]",
      "text/plain": [
       "<Figure size 504x360 with 4 Axes>"
      ]
     },
     "metadata": {
      "needs_background": "light"
     },
     "output_type": "display_data"
    }
   ],
   "source": [
    "sc = StandardScaler()\n",
    "X_train_std = sc.fit_transform(X_train)\n",
    "\n",
    "from itertools import product\n",
    "\n",
    "# could use the one in ch3; the following simply plots it in the same graph\n",
    "x1_min, x1_max = X_train_std[:, 0].min() - 1, X_train_std[:, 0].max() + 1\n",
    "x2_min, x2_max = X_train_std[:, 1].min() - 1, X_train_std[:, 1].max() + 1\n",
    "xx1, xx2 = np.meshgrid(np.arange(x1_min, x1_max, 0.1),\n",
    "                       np.arange(x2_min, x2_max, 0.1))\n",
    "\n",
    "f, axarr = plt.subplots(\n",
    "    nrows=2, ncols=2,\n",
    "    sharex='col',\n",
    "    sharey='row',\n",
    "    figsize=(7, 5)\n",
    ")\n",
    "\n",
    "for idx, classifier, tt in zip(product([0, 1], [0, 1]), all_clf, clf_labels):\n",
    "    classifier.fit(X_train_std, y_train)\n",
    "    Z = classifier.predict(np.array([xx1.ravel(), xx2.ravel()]).T)\n",
    "    Z = Z.reshape(xx1.shape)\n",
    "    axarr[idx[0], idx[1]].contourf(xx1, xx2, Z, alpha=0.3)\n",
    "    axarr[idx[0], idx[1]].scatter(X_train_std[y_train == 0, 0], X_train_std[y_train == 0, 1], alpha=0.8, c='blue', marker='^', s=50)\n",
    "    axarr[idx[0], idx[1]].scatter(X_train_std[y_train == 1, 0], X_train_std[y_train == 1, 1], alpha=0.8, c='red', marker='o', s=50)\n",
    "    axarr[idx[0], idx[1]].set_title(tt)\n",
    "plt.text(-3.5, -4.5, s='Sepal width [standardized]', ha='center', va='center', fontsize=12)\n",
    "plt.text(-10.5, 4.5, s='Petal length [standardized]', ha='center', va='center', fontsize=12, rotation=90)"
   ]
  },
  {
   "cell_type": "code",
   "execution_count": 21,
   "metadata": {},
   "outputs": [
    {
     "data": {
      "text/plain": [
       "{'pipeline-1': Pipeline(memory=None,\n",
       "      steps=[('sc', StandardScaler(copy=True, with_mean=True, with_std=True)), ['clf', LogisticRegression(C=0.001, class_weight=None, dual=False, fit_intercept=True,\n",
       "           intercept_scaling=1, max_iter=100, multi_class='warn',\n",
       "           n_jobs=None, penalty='l2', random_state=0, solver='lbfgs',\n",
       "           tol=0.0001, verbose=0, warm_start=False)]]),\n",
       " 'decisiontreeclassifier': DecisionTreeClassifier(class_weight=None, criterion='entropy', max_depth=11,\n",
       "             max_features=None, max_leaf_nodes=None,\n",
       "             min_impurity_decrease=0.0, min_impurity_split=None,\n",
       "             min_samples_leaf=1, min_samples_split=2,\n",
       "             min_weight_fraction_leaf=0.0, presort=False, random_state=0,\n",
       "             splitter='best'),\n",
       " 'pipeline-2': Pipeline(memory=None,\n",
       "      steps=[('sc', StandardScaler(copy=True, with_mean=True, with_std=True)), ['clf', KNeighborsClassifier(algorithm='auto', leaf_size=30, metric='minkowski',\n",
       "            metric_params=None, n_jobs=None, n_neighbors=1, p=2,\n",
       "            weights='uniform')]]),\n",
       " 'pipeline-1__memory': None,\n",
       " 'pipeline-1__steps': [('sc',\n",
       "   StandardScaler(copy=True, with_mean=True, with_std=True)),\n",
       "  ['clf',\n",
       "   LogisticRegression(C=0.001, class_weight=None, dual=False, fit_intercept=True,\n",
       "             intercept_scaling=1, max_iter=100, multi_class='warn',\n",
       "             n_jobs=None, penalty='l2', random_state=0, solver='lbfgs',\n",
       "             tol=0.0001, verbose=0, warm_start=False)]],\n",
       " 'pipeline-1__sc': StandardScaler(copy=True, with_mean=True, with_std=True),\n",
       " 'pipeline-1__clf': LogisticRegression(C=0.001, class_weight=None, dual=False, fit_intercept=True,\n",
       "           intercept_scaling=1, max_iter=100, multi_class='warn',\n",
       "           n_jobs=None, penalty='l2', random_state=0, solver='lbfgs',\n",
       "           tol=0.0001, verbose=0, warm_start=False),\n",
       " 'pipeline-1__sc__copy': True,\n",
       " 'pipeline-1__sc__with_mean': True,\n",
       " 'pipeline-1__sc__with_std': True,\n",
       " 'pipeline-1__clf__C': 0.001,\n",
       " 'pipeline-1__clf__class_weight': None,\n",
       " 'pipeline-1__clf__dual': False,\n",
       " 'pipeline-1__clf__fit_intercept': True,\n",
       " 'pipeline-1__clf__intercept_scaling': 1,\n",
       " 'pipeline-1__clf__max_iter': 100,\n",
       " 'pipeline-1__clf__multi_class': 'warn',\n",
       " 'pipeline-1__clf__n_jobs': None,\n",
       " 'pipeline-1__clf__penalty': 'l2',\n",
       " 'pipeline-1__clf__random_state': 0,\n",
       " 'pipeline-1__clf__solver': 'lbfgs',\n",
       " 'pipeline-1__clf__tol': 0.0001,\n",
       " 'pipeline-1__clf__verbose': 0,\n",
       " 'pipeline-1__clf__warm_start': False,\n",
       " 'decisiontreeclassifier__class_weight': None,\n",
       " 'decisiontreeclassifier__criterion': 'entropy',\n",
       " 'decisiontreeclassifier__max_depth': 11,\n",
       " 'decisiontreeclassifier__max_features': None,\n",
       " 'decisiontreeclassifier__max_leaf_nodes': None,\n",
       " 'decisiontreeclassifier__min_impurity_decrease': 0.0,\n",
       " 'decisiontreeclassifier__min_impurity_split': None,\n",
       " 'decisiontreeclassifier__min_samples_leaf': 1,\n",
       " 'decisiontreeclassifier__min_samples_split': 2,\n",
       " 'decisiontreeclassifier__min_weight_fraction_leaf': 0.0,\n",
       " 'decisiontreeclassifier__presort': False,\n",
       " 'decisiontreeclassifier__random_state': 0,\n",
       " 'decisiontreeclassifier__splitter': 'best',\n",
       " 'pipeline-2__memory': None,\n",
       " 'pipeline-2__steps': [('sc',\n",
       "   StandardScaler(copy=True, with_mean=True, with_std=True)),\n",
       "  ['clf',\n",
       "   KNeighborsClassifier(algorithm='auto', leaf_size=30, metric='minkowski',\n",
       "              metric_params=None, n_jobs=None, n_neighbors=1, p=2,\n",
       "              weights='uniform')]],\n",
       " 'pipeline-2__sc': StandardScaler(copy=True, with_mean=True, with_std=True),\n",
       " 'pipeline-2__clf': KNeighborsClassifier(algorithm='auto', leaf_size=30, metric='minkowski',\n",
       "            metric_params=None, n_jobs=None, n_neighbors=1, p=2,\n",
       "            weights='uniform'),\n",
       " 'pipeline-2__sc__copy': True,\n",
       " 'pipeline-2__sc__with_mean': True,\n",
       " 'pipeline-2__sc__with_std': True,\n",
       " 'pipeline-2__clf__algorithm': 'auto',\n",
       " 'pipeline-2__clf__leaf_size': 30,\n",
       " 'pipeline-2__clf__metric': 'minkowski',\n",
       " 'pipeline-2__clf__metric_params': None,\n",
       " 'pipeline-2__clf__n_jobs': None,\n",
       " 'pipeline-2__clf__n_neighbors': 1,\n",
       " 'pipeline-2__clf__p': 2,\n",
       " 'pipeline-2__clf__weights': 'uniform'}"
      ]
     },
     "execution_count": 21,
     "metadata": {},
     "output_type": "execute_result"
    }
   ],
   "source": [
    "mv_clf.get_params()"
   ]
  },
  {
   "cell_type": "code",
   "execution_count": 57,
   "metadata": {},
   "outputs": [
    {
     "name": "stdout",
     "output_type": "stream",
     "text": [
      "0.967+/-0.05 {'decisiontreeclassifier__max_depth': 1, 'pipeline-1__clf__C': 0.001}\n",
      "0.967+/-0.05 {'decisiontreeclassifier__max_depth': 1, 'pipeline-1__clf__C': 0.1}\n",
      "1.000+/-0.00 {'decisiontreeclassifier__max_depth': 1, 'pipeline-1__clf__C': 100.0}\n",
      "0.967+/-0.05 {'decisiontreeclassifier__max_depth': 2, 'pipeline-1__clf__C': 0.001}\n",
      "0.967+/-0.05 {'decisiontreeclassifier__max_depth': 2, 'pipeline-1__clf__C': 0.1}\n",
      "1.000+/-0.00 {'decisiontreeclassifier__max_depth': 2, 'pipeline-1__clf__C': 100.0}\n",
      "results show a lower regularization strength results in greater accuracy, while tree depth has no effect\n"
     ]
    }
   ],
   "source": [
    "# tuning the majority vote classifier\n",
    "\n",
    "from sklearn.model_selection import GridSearchCV\n",
    "params = {\n",
    "    'decisiontreeclassifier__max_depth': [1, 2],\n",
    "    'pipeline-1__clf__C': [0.001, 0.1, 100.0]\n",
    "}\n",
    "\n",
    "grid = GridSearchCV(\n",
    "    estimator=mv_clf,\n",
    "    param_grid=params,\n",
    "    cv=10,\n",
    "    scoring='roc_auc',\n",
    "    return_train_score=False\n",
    ")\n",
    "\n",
    "grid.fit(X_train, y_train)\n",
    "\n",
    "for params, mean_score, std in pd.DataFrame(grid.cv_results_)[['params', 'mean_test_score', 'std_test_score']].values: # note: is sklearn v0.20, grid_scores_ becomes cv_results_\n",
    "    print(\"%0.3f+/-%0.2f %r\" % (mean_score, std / 2, params))\n",
    "    \n",
    "print('results show a lower regularization strength results in greater accuracy, while tree depth has no effect')"
   ]
  },
  {
   "cell_type": "code",
   "execution_count": 58,
   "metadata": {},
   "outputs": [],
   "source": [
    "# Bagging Classifier, an example is Random Forests\n",
    "# See simple explanation:\n",
    "# https://machinelearningmastery.com/bagging-and-random-forest-ensemble-algorithms-for-machine-learning/\n",
    "# Essentially create multiple(500+) samples, each trained into a different classifier\n",
    "# in order to approximate towards the real population\n",
    "# so there will be less overfitting when compared to using a single sample\n",
    "# Note: compared to Random Forests, the no of features of each classifier is not limited(by default)\n",
    "# meaning classifiers may have a higher correlation to each other and reduce its efficacy compared to Random Forests\n",
    "\n",
    "df_wine = pd.read_csv('https://archive.ics.uci.edu/ml/machine-learning-databases/wine/wine.data', header=None)\n",
    "df_wine.columns = [\n",
    "    'Class label', \n",
    "    'Alcohol',\n",
    "    'Malic acid', 'Ash',\n",
    "    'Alcalinity of ash',\n",
    "    'Magnesium', 'Total phenols',\n",
    "    'Flavanoids', 'Nonflavanoid phenols',\n",
    "    'Proanthocyanins',\n",
    "    'Color intensity', 'Hue',\n",
    "    'OD280/OD315 of diluted wines',\n",
    "    'Proline'\n",
    "]\n",
    "df_wine = df_wine[df_wine['Class label'] != 1] # filtering out samples with label == 1\n",
    "y = df_wine['Class label'].values\n",
    "X = df_wine[['Alcohol', 'Hue']].values # limiting components to alcohol and hue"
   ]
  },
  {
   "cell_type": "code",
   "execution_count": 61,
   "metadata": {},
   "outputs": [],
   "source": [
    "from sklearn.preprocessing import LabelEncoder\n",
    "from sklearn.model_selection import train_test_split\n",
    "le = LabelEncoder()\n",
    "y = le.fit_transform(y)\n",
    "X_train, X_test, y_train, y_test = train_test_split(X, y, test_size=0.4, random_state=1)"
   ]
  },
  {
   "cell_type": "code",
   "execution_count": 62,
   "metadata": {},
   "outputs": [
    {
     "name": "stdout",
     "output_type": "stream",
     "text": [
      "Decision tree train/test accuracies 1.000/0.854\n",
      "Decision tree train/test accuracies 1.000/0.896\n"
     ]
    }
   ],
   "source": [
    "from sklearn.ensemble import BaggingClassifier\n",
    "tree = DecisionTreeClassifier(criterion='entropy',max_depth=None)\n",
    "bag = BaggingClassifier(\n",
    "    base_estimator=tree,\n",
    "    n_estimators=500,\n",
    "    max_samples=1.0,\n",
    "    max_features=1.0,\n",
    "    bootstrap=True, # whether samples are drawn with replaccement\n",
    "    bootstrap_features=False, # whether features are drawn with replaccement\n",
    "    n_jobs=1,\n",
    "    random_state=1\n",
    ")\n",
    "\n",
    "from sklearn.metrics import accuracy_score\n",
    "tree = tree.fit(X_train, y_train)\n",
    "y_train_pred = tree.predict(X_train)\n",
    "y_test_pred = tree.predict(X_test)\n",
    "tree_train = accuracy_score(y_train, y_train_pred)\n",
    "tree_test = accuracy_score(y_test, y_test_pred)\n",
    "print('Decision tree train/test accuracies %.3f/%.3f' % (tree_train, tree_test))\n",
    "\n",
    "bag = bag.fit(X_train, y_train)\n",
    "y_train_pred = bag.predict(X_train)\n",
    "y_test_pred = bag.predict(X_test)\n",
    "bag_train = accuracy_score(y_train, y_train_pred)\n",
    "bag_test = accuracy_score(y_test, y_test_pred)\n",
    "print('Decision tree train/test accuracies %.3f/%.3f' % (bag_train, bag_test))"
   ]
  },
  {
   "cell_type": "code",
   "execution_count": 63,
   "metadata": {},
   "outputs": [
    {
     "data": {
      "image/png": "[encoded data removed]",
      "text/plain": [
       "<Figure size 576x216 with 2 Axes>"
      ]
     },
     "metadata": {
      "needs_background": "light"
     },
     "output_type": "display_data"
    }
   ],
   "source": [
    "x1_min, x1_max = X_train[:, 0].min() - 1, X_train[:, 0].max() + 1\n",
    "x2_min, x2_max = X_train[:, 1].min() - 1, X_train[:, 1].max() + 1\n",
    "xx1, xx2 = np.meshgrid(np.arange(x1_min, x1_max, 0.1),\n",
    "                       np.arange(x2_min, x2_max, 0.1))\n",
    "\n",
    "f, axarr = plt.subplots(\n",
    "    nrows=1, ncols=2,\n",
    "    sharex='col',\n",
    "    sharey='row',\n",
    "    figsize=(8, 3)\n",
    ")\n",
    "\n",
    "for idx, classifier, tt in zip([0, 1], [tree, bag], ['Decision Tree Classifier', 'Bagging classifier']):\n",
    "    classifier.fit(X_train, y_train)\n",
    "    Z = classifier.predict(np.array([xx1.ravel(), xx2.ravel()]).T)\n",
    "    Z = Z.reshape(xx1.shape)\n",
    "    axarr[idx].contourf(xx1, xx2, Z, alpha=0.3)\n",
    "    axarr[idx].scatter(X_train[y_train == 0, 0], X_train[y_train == 0, 1], c='blue', marker='^')\n",
    "    axarr[idx].scatter(X_train[y_train == 1, 0], X_train[y_train == 1, 1], c='red', marker='o')\n",
    "    axarr[idx].set_title(tt)\n",
    "axarr[0].set_ylabel('Alcohol', fontsize=12)\n",
    "plt.text(10.2, -1.2, s='Hue', ha='center', va='center')\n",
    "plt.show()"
   ]
  },
  {
   "cell_type": "code",
   "execution_count": 64,
   "metadata": {},
   "outputs": [
    {
     "name": "stdout",
     "output_type": "stream",
     "text": [
      "Decision tree train/test accuracies 0.845/0.854\n",
      "Decision tree train/test accuracies 1.000/0.875\n"
     ]
    }
   ],
   "source": [
    "# Adaptive Boosting\n",
    "# simple explanation: for each iteration/classifier, the weight of the misidenfied samples are increased \n",
    "# and the weights of the correctly identified are decreased (by a certain coeff. calculated by exp(0.5ln(err_perc)/err_perc))\n",
    "# at the end, take the majority vote of all classifiers\n",
    "\n",
    "from sklearn.ensemble import AdaBoostClassifier\n",
    "\n",
    "tree = DecisionTreeClassifier(criterion='entropy', max_depth=1)\n",
    "ada = AdaBoostClassifier(\n",
    "    base_estimator=tree,\n",
    "    n_estimators=500,\n",
    "    learning_rate=0.1,\n",
    "    random_state=0\n",
    ")\n",
    "tree = tree.fit(X_train, y_train)\n",
    "y_train_pred = tree.predict(X_train)\n",
    "y_test_pred = tree.predict(X_test)\n",
    "tree_train = accuracy_score(y_train, y_train_pred)\n",
    "tree_test = accuracy_score(y_test, y_test_pred)\n",
    "print('Decision tree train/test accuracies %.3f/%.3f' % (tree_train, tree_test))\n",
    "\n",
    "ada = ada.fit(X_train, y_train)\n",
    "y_train_pred = ada.predict(X_train)\n",
    "y_test_pred = ada.predict(X_test)\n",
    "ada_train = accuracy_score(y_train, y_train_pred)\n",
    "ada_test = accuracy_score(y_test, y_test_pred)\n",
    "print('Decision tree train/test accuracies %.3f/%.3f' % (ada_train, ada_test))"
   ]
  },
  {
   "cell_type": "code",
   "execution_count": 65,
   "metadata": {},
   "outputs": [
    {
     "data": {
      "image/png": "[encoded data removed]",
      "text/plain": [
       "<Figure size 576x216 with 2 Axes>"
      ]
     },
     "metadata": {
      "needs_background": "light"
     },
     "output_type": "display_data"
    }
   ],
   "source": [
    "x1_min, x1_max = X_train[:, 0].min() - 1, X_train[:, 0].max() + 1\n",
    "x2_min, x2_max = X_train[:, 1].min() - 1, X_train[:, 1].max() + 1\n",
    "xx1, xx2 = np.meshgrid(np.arange(x1_min, x1_max, 0.1),\n",
    "                       np.arange(x2_min, x2_max, 0.1))\n",
    "\n",
    "f, axarr = plt.subplots(\n",
    "    nrows=1, ncols=2,\n",
    "    sharex='col',\n",
    "    sharey='row',\n",
    "    figsize=(8, 3)\n",
    ")\n",
    "\n",
    "for idx, classifier, tt in zip([0, 1], [tree, ada], ['Decision Tree Classifier', 'Adaptive Boosting classifier']):\n",
    "    classifier.fit(X_train, y_train)\n",
    "    Z = classifier.predict(np.array([xx1.ravel(), xx2.ravel()]).T)\n",
    "    Z = Z.reshape(xx1.shape)\n",
    "    axarr[idx].contourf(xx1, xx2, Z, alpha=0.3)\n",
    "    axarr[idx].scatter(X_train[y_train == 0, 0], X_train[y_train == 0, 1], c='blue', marker='^')\n",
    "    axarr[idx].scatter(X_train[y_train == 1, 0], X_train[y_train == 1, 1], c='red', marker='o')\n",
    "    axarr[idx].set_title(tt)\n",
    "axarr[0].set_ylabel('Alcohol', fontsize=12)\n",
    "plt.text(10.2, -1.2, s='Hue', ha='center', va='center')\n",
    "plt.show()"
   ]
  },
  {
   "cell_type": "code",
   "execution_count": null,
   "metadata": {},
   "outputs": [],
   "source": []
  }
 ],
 "metadata": {
  "kernelspec": {
   "display_name": "Python 3",
   "language": "python",
   "name": "python3"
  },
  "language_info": {
   "codemirror_mode": {
    "name": "ipython",
    "version": 3
   },
   "file_extension": ".py",
   "mimetype": "text/x-python",
   "name": "python",
   "nbconvert_exporter": "python",
   "pygments_lexer": "ipython3",
   "version": "3.6.8"
  }
 },
 "nbformat": 4,
 "nbformat_minor": 2
}
