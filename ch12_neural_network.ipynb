{
 "cells": [
  {
   "cell_type": "code",
   "execution_count": 1,
   "metadata": {},
   "outputs": [],
   "source": [
    "import numpy as np\n",
    "import pandas as pd\n",
    "import matplotlib.pyplot as plt\n",
    "import os\n",
    "import struct"
   ]
  },
  {
   "cell_type": "code",
   "execution_count": 2,
   "metadata": {},
   "outputs": [],
   "source": [
    "def load_mnist(path, kind='train'):\n",
    "    labels_path = '{}-labels-idx1-ubyte'.format(kind)\n",
    "    images_path = '{}-images-idx3-ubyte'.format(kind)\n",
    "    with open(labels_path, 'rb') as lbpath:\n",
    "        magic, n = struct.unpack('>II', lbpath.read(8))\n",
    "        labels = np.fromfile(lbpath, dtype=np.uint8)\n",
    "    with open(images_path, 'rb') as imgpath:\n",
    "        magic, num, rows, cols = struct.unpack('>IIII', imgpath.read(16))\n",
    "        images = np.fromfile(imgpath, dtype=np.uint8).reshape(len(labels), 784) # 784=28x28 pixel images\n",
    "    return images, labels"
   ]
  },
  {
   "cell_type": "code",
   "execution_count": 3,
   "metadata": {},
   "outputs": [
    {
     "name": "stdout",
     "output_type": "stream",
     "text": [
      "Rows: 60000, columns: 784\n"
     ]
    }
   ],
   "source": [
    "X_train, y_train = load_mnist('.', kind='train')\n",
    "print('Rows: %d, columns: %d' % (X_train.shape[0], X_train.shape[1]))"
   ]
  },
  {
   "cell_type": "code",
   "execution_count": 4,
   "metadata": {},
   "outputs": [
    {
     "name": "stdout",
     "output_type": "stream",
     "text": [
      "Rows: 10000, columns: 784\n"
     ]
    }
   ],
   "source": [
    "X_test, y_test = load_mnist('mnist', kind='t10k')\n",
    "print('Rows: %d, columns: %d' % (X_test.shape[0], X_test.shape[1]))"
   ]
  },
  {
   "cell_type": "code",
   "execution_count": 5,
   "metadata": {},
   "outputs": [
    {
     "data": {
      "image/png": "[encoded data removed]",
      "text/plain": [
       "<Figure size 432x288 with 10 Axes>"
      ]
     },
     "metadata": {},
     "output_type": "display_data"
    }
   ],
   "source": [
    "fig, ax = plt.subplots(nrows=2, ncols=5, sharex=True, sharey=True,)\n",
    "ax = ax.flatten()\n",
    "for i in range(10):\n",
    "    img = X_train[y_train == i][0].reshape(28, 28) # reshape back to 28x28 shape\n",
    "    ax[i].imshow(img, cmap='Greys', interpolation='nearest') # see: https://matplotlib.org/api/_as_gen/matplotlib.axes.Axes.imshow.html\n",
    "ax[0].set_xticks([])\n",
    "ax[0].set_yticks([])\n",
    "plt.tight_layout()\n",
    "plt.show()"
   ]
  },
  {
   "cell_type": "code",
   "execution_count": 6,
   "metadata": {},
   "outputs": [
    {
     "data": {
      "image/png": "[encoded data removed]",
      "text/plain": [
       "<Figure size 432x288 with 25 Axes>"
      ]
     },
     "metadata": {},
     "output_type": "display_data"
    }
   ],
   "source": [
    "fig, ax = plt.subplots(\n",
    "  nrows=5,\n",
    "  ncols=5,\n",
    "  sharex=True,\n",
    "  sharey=True\n",
    ")\n",
    "ax = ax.flatten()\n",
    "for i in range(25):\n",
    "    img = X_train[y_train == 7][i].reshape(28, 28)\n",
    "    ax[i].imshow(img, cmap='Greys', interpolation='nearest')\n",
    "ax[0].set_xticks([])\n",
    "ax[0].set_yticks([])\n",
    "plt.tight_layout()\n",
    "plt.show()"
   ]
  },
  {
   "cell_type": "code",
   "execution_count": 178,
   "metadata": {},
   "outputs": [],
   "source": [
    "# Multi-layer perceptron\n",
    "from scipy.special import expit # expit=sigmoid function\n",
    "import sys\n",
    "from sklearn.preprocessing import OneHotEncoder\n",
    "\n",
    "class NeuralNetMLP(object):\n",
    "    def __init__(self, n_output, n_features, n_hidden=30,\n",
    "                 l1=0.0, l2=0.0, epochs=500, eta=0.001,\n",
    "                 alpha=0.0, decrease_const=0.0, shuffle=True,\n",
    "                 minibatches=1, random_state=None):\n",
    "\n",
    "        np.random.seed(random_state)\n",
    "        self.n_output = n_output\n",
    "        self.n_features = n_features\n",
    "        self.n_hidden = n_hidden\n",
    "        self.w1, self.w2 = self._initialize_weights()\n",
    "        self.l1 = l1\n",
    "        self.l2 = l2\n",
    "        self.epochs = epochs\n",
    "        self.eta = eta\n",
    "        self.alpha = alpha\n",
    "        self.decrease_const = decrease_const\n",
    "        self.shuffle = shuffle\n",
    "        self.minibatches = minibatches\n",
    "\n",
    "    # return k arrays, where k = n_groups; each array represents y[y==i]\n",
    "    # return N arrays, each array goes has 10 elements representing the prediction from 0 to 9\n",
    "    def _encode_labels(self, y, k):\n",
    "        ohe = OneHotEncoder(categorical_features=[0]) \n",
    "        return ohe.fit_transform(y.reshape(-1,1)).toarray()\n",
    "\n",
    "    # w1: n_hidden * n_feature + 1 (bias unit) matrix of random floats (with uniform distribution)\n",
    "    # w2: n_output * n_hidden + 1 (bias unit) matrix of random floats\n",
    "    def _initialize_weights(self):\n",
    "        w1 = self._random_weights(self.n_features, self.n_hidden)\n",
    "        w2 = self._random_weights(self.n_hidden, self.n_output)\n",
    "        return w1, w2\n",
    "    \n",
    "    def _random_weights(self, n_in, n_out):\n",
    "        w = np.random.uniform(-1.0, 1.0, size=n_out*(n_in + 1))\n",
    "        return w.reshape(n_out, n_in + 1)\n",
    "\n",
    "    # cost = - sum of [ y*log(a) (term1) + (1-y)*log(1-a) (term2) ]\n",
    "    # y_enc is y passed to encode_labels\n",
    "    def _get_cost(self, y_enc, output, w1, w2):\n",
    "        term1 = y_enc * (np.log(output))\n",
    "        term2 = (1 - y_enc) * np.log(1 - output)\n",
    "        cost = -np.sum(term1 + term2)\n",
    "        L1_term = self._L1_reg(self.l1, w1, w2) # L1 regulatization\n",
    "        L2_term = self._L2_reg(self.l2, w1, w2) # L2 regulatization\n",
    "        cost = cost + L1_term + L2_term\n",
    "        return cost\n",
    "    \n",
    "    # L1 regulatization - sum of abs value of weights\n",
    "    # note: bias unit/constant does not need to be regularized,\n",
    "    def _L1_reg(self, lambda_, w1, w2):\n",
    "        return (lambda_/2.0) * (np.abs(w1[:, 1:]).sum() + np.abs(w2[:, 1:]).sum())\n",
    "    \n",
    "    # L2 regulatization - sum of squares of weights\n",
    "    # note: bias unit/constant does not need to be regularized, ergo w[:, 1:]\n",
    "    def _L2_reg(self, lambda_, w1, w2):\n",
    "        return (lambda_/2.0) * (np.sum(w1[:, 1:] ** 2) + np.sum(w2[:, 1:] ** 2))\n",
    "    \n",
    "    # activation(a) is the value of the intermediate layers\n",
    "    # a1 = input plus constant unit\n",
    "    # a2 = g(z1) plus constant unit; z1 = w1 * input\n",
    "    # a3 = g(z2); z2 = w2 * a1\n",
    "    def _feedforward(self, X, w1, w2):\n",
    "        a1 = self._add_bias_unit(X, how='column')\n",
    "        z2 = a1.dot(w1.T) # (N x n_feature+1) * (n_feature+1 x n_hidden) => (N x n_hidden)\n",
    "        a2 = expit(z2)\n",
    "        a2 = self._add_bias_unit(a2, how='row')\n",
    "        z3 = a2.dot(w2.T) # (N x n_hidden+1) * (n_hidden+1 x n_output) => (N x n_output)\n",
    "        a3 = expit(z3)\n",
    "        return a1, z2, a2, z3, a3\n",
    "\n",
    "    def _add_bias_unit(self, X, how='column'):\n",
    "        ones = np.ones((X.shape[0], 1))\n",
    "        X_new = np.hstack((ones, X))\n",
    "        return X_new\n",
    "\n",
    "    # backpropagation works by finding the d(E)/d(wi) of each weight layer\n",
    "    # E = -[ylog(a) + (1-y)log(1-a)]\n",
    "    # reminder: dz = d(a dot w); d(a dot w)/da = w ; d(a dot w)/dw = a\n",
    "    # using chain rule: dE/dw = dE/da * da/dz * dz/dw\n",
    "    # dE/d(a) = -(y/a - (1-y)/(1-a)) = a-y/a(1-a)\n",
    "    # da/dz   = g'(z) = a(1-a); which cancels out the denominator above\n",
    "    # so, dE/dz3 = sigma3 = a-y\n",
    "    # dE/d(w2) = sigma3 * d(z3)/d(w2)\n",
    "    #          = sigma3 * a2\n",
    "    # dE/d(w1) = sigma3 * d(z3)/d(a2) * d(a2)/d(z2) * d(z2)/d(w1)\n",
    "    #          = sigma3 * w2 * g'(z2) * a1\n",
    "    def _get_gradient(self, a1, a2, a3, z2, y_enc, w1, w2):\n",
    "        # backpropagation\n",
    "        sigma3 = (a3 - y_enc) # (N x n_output)\n",
    "        sigma2 = sigma3.dot(w2[:,1:]) * self._sigmoid_gradient(a2[:,1:]) # (N x n_output) * (n_output x n_hidden) => (N x n_hidden); z2 shape is also (N, n_hidden)\n",
    "        \n",
    "        # since the gradients are used to update the weights, its shape would be the same to w1, w2 resp.\n",
    "        grad1 = sigma2.T.dot(a1) # (n_hidden x N) * (N x n_feature+1) => (n_hidden x n_feature+1)\n",
    "        grad2 = sigma3.T.dot(a2) # (n_output x N) * (N x n_hidden+1) => (n_output x n_hidden+1)\n",
    "\n",
    "        # regularize\n",
    "        grad1[:, 1:] += (w1[:, 1:] * (self.l1 + self.l2)) # without regularizing cons, reg = w * lambda(l1 + l2)\n",
    "        grad2[:, 1:] += (w2[:, 1:] * (self.l1 + self.l2))\n",
    "\n",
    "        return grad1, grad2\n",
    "\n",
    "    # derivative of the sigmoid function\n",
    "    # g'(z) = g(z) * (1 - g(z)) = a * (1 - a)\n",
    "    def _sigmoid_gradient(self, a):\n",
    "        return a * (1 - a)\n",
    "    \n",
    "    def predict(self, X):\n",
    "        if len(X.shape) != 2:\n",
    "            raise AttributeError('X must be a [n_samples, n_features] array.\\n'\n",
    "                                 'Use X[:,None] for 1-feature classification,'\n",
    "                                 '\\nor X[[i]] for 1-sample classification')\n",
    "\n",
    "        a1, z2, a2, z3, a3 = self._feedforward(X, self.w1, self.w2)\n",
    "        y_pred = np.argmax(z3, axis=1) # each row of z3 is 10 elements representing from predictions of 0 to 9, argmax return idx of each array with greatest value = value of the prediction\n",
    "        return y_pred\n",
    "\n",
    "    def fit(self, X, y, print_progress=False):\n",
    "        self.cost_ = []\n",
    "        X_data, y_data = X.copy(), y.copy()\n",
    "        y_enc = self._encode_labels(y, self.n_output)\n",
    "\n",
    "        delta_w1_prev = np.zeros(self.w1.shape)\n",
    "        delta_w2_prev = np.zeros(self.w2.shape)\n",
    "\n",
    "        for i in range(self.epochs):\n",
    "\n",
    "            # adaptive learning rate\n",
    "            self.eta /= (1 + self.decrease_const*i)\n",
    "\n",
    "            if print_progress:\n",
    "                sys.stderr.write('\\rEpoch: %d/%d' % (i+1, self.epochs))\n",
    "                sys.stderr.flush()\n",
    "\n",
    "            if self.shuffle:\n",
    "                idx = np.random.permutation(y_data.shape[0])\n",
    "                X_data, y_enc = X_data[idx], y_enc[idx,:]\n",
    "\n",
    "            mini = np.array_split(range(y_data.shape[0]), self.minibatches)\n",
    "            for idx in mini:\n",
    "\n",
    "                # feedforward\n",
    "                a1, z2, a2, z3, a3 = self._feedforward(X_data[idx], self.w1, self.w2)\n",
    "                cost = self._get_cost(y_enc=y_enc[idx,:],\n",
    "                                      output=a3,\n",
    "                                      w1=self.w1,\n",
    "                                      w2=self.w2)\n",
    "                self.cost_.append(cost)\n",
    "\n",
    "                # compute gradient via backpropagation\n",
    "                grad1, grad2 = self._get_gradient(a1=a1, a2=a2,\n",
    "                                                  a3=a3, z2=z2,\n",
    "                                                  y_enc=y_enc[idx,:],\n",
    "                                                  w1=self.w1,\n",
    "                                                  w2=self.w2)\n",
    "\n",
    "                delta_w1, delta_w2 = self.eta * grad1, self.eta * grad2\n",
    "                self.w1 -= (delta_w1 + (self.alpha * delta_w1_prev)) # note: it would have been enough to use just self.w1 -= delta_w1; but using the rest could make it a bit faster\n",
    "                self.w2 -= (delta_w2 + (self.alpha * delta_w2_prev))\n",
    "                delta_w1_prev, delta_w2_prev = delta_w1, delta_w2\n",
    "\n",
    "        return self"
   ]
  },
  {
   "cell_type": "code",
   "execution_count": 140,
   "metadata": {},
   "outputs": [
    {
     "name": "stderr",
     "output_type": "stream",
     "text": [
      "Epoch: 1000/1000"
     ]
    },
    {
     "data": {
      "text/plain": [
       "<__main__.NeuralNetMLP at 0x11964f7f0>"
      ]
     },
     "execution_count": 140,
     "metadata": {},
     "output_type": "execute_result"
    }
   ],
   "source": [
    "nn = NeuralNetMLP(\n",
    "  n_output=10,\n",
    "  n_features=X_train.shape[1],\n",
    "  n_hidden=50,\n",
    "  l2=0.1,\n",
    "  l1=0.0,\n",
    "  epochs=1000,\n",
    "  eta=0.001,\n",
    "  alpha=0.001,\n",
    "  decrease_const=0.00001,\n",
    "  shuffle=True,\n",
    "  minibatches=50,\n",
    "  random_state=1\n",
    ")\n",
    "nn.fit(X_train, y_train, print_progress=True)"
   ]
  },
  {
   "cell_type": "code",
   "execution_count": 142,
   "metadata": {},
   "outputs": [
    {
     "data": {
      "image/png": "[encoded data removed]",
      "text/plain": [
       "<Figure size 432x288 with 1 Axes>"
      ]
     },
     "metadata": {
      "needs_background": "light"
     },
     "output_type": "display_data"
    }
   ],
   "source": [
    "plt.plot(range(len(nn.cost_)) , nn.cost_)\n",
    "plt.ylim([0, 2000])\n",
    "plt.ylabel('Cost')\n",
    "plt.xlabel('Epochs')\n",
    "plt.tight_layout()\n",
    "plt.show()"
   ]
  },
  {
   "cell_type": "code",
   "execution_count": 143,
   "metadata": {},
   "outputs": [
    {
     "data": {
      "image/png": "[encoded data removed]",
      "text/plain": [
       "<Figure size 432x288 with 1 Axes>"
      ]
     },
     "metadata": {
      "needs_background": "light"
     },
     "output_type": "display_data"
    }
   ],
   "source": [
    "batches = np.array_split(range(len(nn.cost_)), 1000) # split range(len(nn.cost)) into 1000 parts => [[0...49], [50..99],..., [49950..49999]]\n",
    "cost_ary = np.array(nn.cost_)\n",
    "cost_avgs = [np.mean(cost_ary[i]) for i in batches]\n",
    "plt.plot(range(len(cost_avgs)),\n",
    "         cost_avgs,\n",
    "         color='red')\n",
    "plt.ylim([0, 2000])\n",
    "plt.ylabel('Cost')\n",
    "plt.xlabel('Epochs * 50')\n",
    "plt.tight_layout()\n",
    "plt.show()"
   ]
  },
  {
   "cell_type": "code",
   "execution_count": 144,
   "metadata": {},
   "outputs": [
    {
     "name": "stdout",
     "output_type": "stream",
     "text": [
      "Training accuracy: 97.67%\n"
     ]
    }
   ],
   "source": [
    "y_train_pred = nn.predict(X_train)\n",
    "acc = np.sum(y_train == y_train_pred, axis=0) / X_train.shape[0]\n",
    "print('Training accuracy: %.2f%%' % (acc * 100))"
   ]
  },
  {
   "cell_type": "code",
   "execution_count": 145,
   "metadata": {},
   "outputs": [
    {
     "name": "stdout",
     "output_type": "stream",
     "text": [
      "Training accuracy: 96.01%\n"
     ]
    }
   ],
   "source": [
    "y_test_pred = nn.predict(X_test)\n",
    "acc = np.sum(y_test == y_test_pred, axis=0) / X_test.shape[0]\n",
    "print('Training accuracy: %.2f%%' % (acc * 100))"
   ]
  },
  {
   "cell_type": "code",
   "execution_count": 146,
   "metadata": {},
   "outputs": [
    {
     "data": {
      "image/png": "[encoded data removed]",
      "text/plain": [
       "<Figure size 432x288 with 25 Axes>"
      ]
     },
     "metadata": {},
     "output_type": "display_data"
    }
   ],
   "source": [
    "miscl_idx = y_test != y_test_pred\n",
    "miscl_img = X_test[miscl_idx]\n",
    "correct_lab = y_test[miscl_idx]\n",
    "miscl_lab = y_test_pred[miscl_idx]\n",
    "\n",
    "fig, ax =  plt.subplots(\n",
    "    nrows=5,\n",
    "    ncols=5,\n",
    "    sharex=True,\n",
    "    sharey=True\n",
    ")\n",
    "ax = ax.flatten()\n",
    "\n",
    "for i in range(25):\n",
    "    img = miscl_img[i].reshape(28, 28)\n",
    "    ax[i].imshow(img, cmap='Greys', interpolation='nearest')\n",
    "    ax[i].set_title('t: {}, pred: {}'.format(correct_lab[i], miscl_lab[i]))\n",
    "ax[0].set_xticks([])\n",
    "ax[0].set_yticks([])\n",
    "plt.tight_layout()"
   ]
  },
  {
   "cell_type": "code",
   "execution_count": 204,
   "metadata": {},
   "outputs": [],
   "source": [
    "# Multi-layer perceptron\n",
    "from scipy.special import expit # expit=sigmoid function\n",
    "import sys\n",
    "from sklearn.preprocessing import OneHotEncoder\n",
    "\n",
    "class NeuralNetMLP(object):\n",
    "    def __init__(self, n_output, n_features, n_hidden=30,\n",
    "                 l1=0.0, l2=0.0, epochs=500, eta=0.001,\n",
    "                 alpha=0.0, decrease_const=0.0, shuffle=True,\n",
    "                 minibatches=1, random_state=None):\n",
    "\n",
    "        np.random.seed(random_state)\n",
    "        self.n_output = n_output\n",
    "        self.n_features = n_features\n",
    "        self.n_hidden = n_hidden\n",
    "        self.w1, self.w2 = self._initialize_weights()\n",
    "        self.l1 = l1\n",
    "        self.l2 = l2\n",
    "        self.epochs = epochs\n",
    "        self.eta = eta\n",
    "        self.alpha = alpha\n",
    "        self.decrease_const = decrease_const\n",
    "        self.shuffle = shuffle\n",
    "        self.minibatches = minibatches\n",
    "\n",
    "    # return k arrays, where k = n_groups; each array represents y[y==i]\n",
    "    # return N arrays, each array goes has 10 elements representing the prediction from 0 to 9\n",
    "    def _encode_labels(self, y, k):\n",
    "        ohe = OneHotEncoder(categorical_features=[0], n_values=self.n_output) \n",
    "        return ohe.fit_transform(y.reshape(-1,1)).toarray()\n",
    "\n",
    "    # w1: n_hidden * n_feature + 1 (bias unit) matrix of random floats (with uniform distribution)\n",
    "    # w2: n_output * n_hidden + 1 (bias unit) matrix of random floats\n",
    "    def _initialize_weights(self):\n",
    "        w1 = self._random_weights(self.n_features, self.n_hidden)\n",
    "        w2 = self._random_weights(self.n_hidden, self.n_output)\n",
    "        return w1, w2\n",
    "    \n",
    "    def _random_weights(self, n_in, n_out):\n",
    "        w = np.random.uniform(-1.0, 1.0, size=n_out*(n_in + 1))\n",
    "        return w.reshape(n_out, n_in + 1)\n",
    "\n",
    "    # cost = - sum of [ y*log(a) (term1) + (1-y)*log(1-a) (term2) ]\n",
    "    # y_enc is y passed to encode_labels\n",
    "    def _get_cost(self, y_enc, output, w1, w2):\n",
    "        term1 = y_enc * (np.log(output))\n",
    "        term2 = (1 - y_enc) * np.log(1 - output)\n",
    "        cost = -np.sum(term1 + term2)\n",
    "        L1_term = self._L1_reg(self.l1, w1, w2) # L1 regulatization\n",
    "        L2_term = self._L2_reg(self.l2, w1, w2) # L2 regulatization\n",
    "        cost = cost + L1_term + L2_term\n",
    "        return cost\n",
    "    \n",
    "    # L1 regulatization - sum of abs value of weights\n",
    "    # note: bias unit/constant does not need to be regularized,\n",
    "    def _L1_reg(self, lambda_, w1, w2):\n",
    "        return (lambda_/2.0) * (np.abs(w1[:, 1:]).sum() + np.abs(w2[:, 1:]).sum())\n",
    "    \n",
    "    # L2 regulatization - sum of squares of weights\n",
    "    # note: bias unit/constant does not need to be regularized, ergo w[:, 1:]\n",
    "    def _L2_reg(self, lambda_, w1, w2):\n",
    "        return (lambda_/2.0) * (np.sum(w1[:, 1:] ** 2) + np.sum(w2[:, 1:] ** 2))\n",
    "    \n",
    "    # activation(a) is the value of the intermediate layers\n",
    "    # a1 = input plus constant unit\n",
    "    # a2 = g(z1) plus constant unit; z1 = w1 * input\n",
    "    # a3 = g(z2); z2 = w2 * a1\n",
    "    def _feedforward(self, X, w1, w2):\n",
    "        a1 = self._add_bias_unit(X, how='column')\n",
    "        z2 = a1.dot(w1.T) # (N x n_feature+1) * (n_feature+1 x n_hidden) => (N x n_hidden)\n",
    "        a2 = expit(z2)\n",
    "        a2 = self._add_bias_unit(a2, how='row')\n",
    "        z3 = a2.dot(w2.T) # (N x n_hidden+1) * (n_hidden+1 x n_output) => (N x n_output)\n",
    "        a3 = expit(z3)\n",
    "        return a1, z2, a2, z3, a3\n",
    "\n",
    "    def _add_bias_unit(self, X, how='column'):\n",
    "        ones = np.ones((X.shape[0], 1))\n",
    "        X_new = np.hstack((ones, X))\n",
    "        return X_new\n",
    "\n",
    "    # backpropagation works by finding the d(E)/d(wi) of each weight layer\n",
    "    # E = -[ylog(a) + (1-y)log(1-a)]\n",
    "    # reminder: dz = d(a dot w); d(a dot w)/da = w ; d(a dot w)/dw = a\n",
    "    # using chain rule: dE/dw = dE/da * da/dz * dz/dw\n",
    "    # dE/d(a) = -(y/a - (1-y)/(1-a)) = a-y/a(1-a)\n",
    "    # da/dz   = g'(z) = a(1-a); which cancels out the denominator above\n",
    "    # so, dE/dz3 = sigma3 = a-y\n",
    "    # dE/d(w2) = sigma3 * d(z3)/d(w2)\n",
    "    #          = sigma3 * a2\n",
    "    # dE/d(w1) = sigma3 * d(z3)/d(a2) * d(a2)/d(z2) * d(z2)/d(w1)\n",
    "    #          = sigma3 * w2 * g'(z2) * a1\n",
    "    def _get_gradient(self, a1, a2, a3, z2, y_enc, w1, w2):\n",
    "        # backpropagation\n",
    "        sigma3 = (a3 - y_enc) # (N x n_output)\n",
    "        sigma2 = sigma3.dot(w2[:,1:]) * self._sigmoid_gradient(a2[:,1:]) # (N x n_output) * (n_output x n_hidden) => (N x n_hidden); z2 shape is also (N, n_hidden)\n",
    "        \n",
    "        # since the gradients are used to update the weights, its shape would be the same to w1, w2 resp.\n",
    "        grad1 = sigma2.T.dot(a1) # (n_hidden x N) * (N x n_feature+1) => (n_hidden x n_feature+1)\n",
    "        grad2 = sigma3.T.dot(a2) # (n_output x N) * (N x n_hidden+1) => (n_output x n_hidden+1)\n",
    "\n",
    "        # regularize\n",
    "        grad1[:, 1:] += (w1[:, 1:] * (self.l1 + self.l2)) # without regularizing cons, reg = w * lambda(l1 + l2)\n",
    "        grad2[:, 1:] += (w2[:, 1:] * (self.l1 + self.l2))\n",
    "\n",
    "        return grad1, grad2\n",
    "\n",
    "    # derivative of the sigmoid function\n",
    "    # g'(z) = g(z) * (1 - g(z)) = a * (1 - a)\n",
    "    def _sigmoid_gradient(self, a):\n",
    "        return a * (1 - a)\n",
    "    \n",
    "    def predict(self, X):\n",
    "        if len(X.shape) != 2:\n",
    "            raise AttributeError('X must be a [n_samples, n_features] array.\\n'\n",
    "                                 'Use X[:,None] for 1-feature classification,'\n",
    "                                 '\\nor X[[i]] for 1-sample classification')\n",
    "\n",
    "        a1, z2, a2, z3, a3 = self._feedforward(X, self.w1, self.w2)\n",
    "        y_pred = np.argmax(z3, axis=1) # each row of z3 is 10 elements representing from predictions of 0 to 9, argmax return idx of each array with greatest value = value of the prediction\n",
    "        return y_pred\n",
    "\n",
    "    # calc difference of numerical gradient through approximation and analytical grad from differentiation \n",
    "    # numerical_grad = J(w+e) - J(w-e) / 2e\n",
    "    def _gradient_checking(self, X, y_enc, w1, w2, epsilon, grad1, grad2):\n",
    "        num_grad1 = np.zeros(np.shape(w1))\n",
    "        num_grad2 = np.zeros(np.shape(w2))\n",
    "        w1 = w1.copy()\n",
    "        w2 = w2.copy()\n",
    "        \n",
    "        for idx in range(2):\n",
    "            w = [w1, w2][idx]\n",
    "            num_grad = [num_grad1, num_grad2][idx]\n",
    "            for i in range(num_grad.shape[0]):\n",
    "                for j in range(num_grad.shape[1]):\n",
    "                    costs = []\n",
    "                    for e in [epsilon, -epsilon]:\n",
    "                        orig_val = w[i,j]\n",
    "                        w[i,j] += e\n",
    "                        a1, z2, a2, z3, a3 = self._feedforward(X, w1, w2)\n",
    "                        costs.append(self._get_cost(y_enc, a3, w1, w2))\n",
    "                        w[i,j] = orig_val\n",
    "                    num_grad[i,j] = (costs[0] - costs[1]) / (2 * epsilon)\n",
    "        \n",
    "        num_grad = np.hstack((num_grad1.flatten(), num_grad2.flatten()))\n",
    "        grad = np.hstack((grad1.flatten(), grad2.flatten()))\n",
    "        # normalize: norm(Jn - Ja)/(norm(Jn) + norm(Ja))\n",
    "        norm = np.linalg.norm\n",
    "        return norm(num_grad - grad) / (norm(num_grad) + norm(grad))\n",
    "    \n",
    "    def fit(self, X, y, print_progress=False):\n",
    "        self.cost_ = []\n",
    "        X_data, y_data = X.copy(), y.copy()\n",
    "        y_enc = self._encode_labels(y, self.n_output)\n",
    "\n",
    "        delta_w1_prev = np.zeros(self.w1.shape)\n",
    "        delta_w2_prev = np.zeros(self.w2.shape)\n",
    "\n",
    "        for i in range(self.epochs):\n",
    "\n",
    "            # adaptive learning rate\n",
    "            self.eta /= (1 + self.decrease_const*i)\n",
    "\n",
    "            if print_progress:\n",
    "                sys.stderr.write('\\rEpoch: %d/%d' % (i+1, self.epochs))\n",
    "                sys.stderr.flush()\n",
    "\n",
    "            if self.shuffle:\n",
    "                idx = np.random.permutation(y_data.shape[0])\n",
    "                X_data, y_enc = X_data[idx], y_enc[idx,:]\n",
    "\n",
    "            mini = np.array_split(range(y_data.shape[0]), self.minibatches)\n",
    "            for idx in mini:\n",
    "\n",
    "                # feedforward\n",
    "                a1, z2, a2, z3, a3 = self._feedforward(X_data[idx], self.w1, self.w2)\n",
    "                cost = self._get_cost(y_enc=y_enc[idx,:],\n",
    "                                      output=a3,\n",
    "                                      w1=self.w1,\n",
    "                                      w2=self.w2)\n",
    "                self.cost_.append(cost)\n",
    "\n",
    "                # compute gradient via backpropagation\n",
    "                grad1, grad2 = self._get_gradient(a1=a1, a2=a2,\n",
    "                                                  a3=a3, z2=z2,\n",
    "                                                  y_enc=y_enc[idx,:],\n",
    "                                                  w1=self.w1,\n",
    "                                                  w2=self.w2)\n",
    "                \n",
    "                # gradient checking\n",
    "                grad_diff = self._gradient_checking(\n",
    "                    X=X_data[idx], \n",
    "                    y_enc=y_enc[idx,:], \n",
    "                    w1=self.w1, \n",
    "                    w2=self.w2, \n",
    "                    epsilon=1e-5, \n",
    "                    grad1=grad1, \n",
    "                    grad2=grad2\n",
    "                )\n",
    "                if grad_diff <= 1e-7:\n",
    "                    print('Ok: %s' % grad_diff)\n",
    "                elif grad_diff <= 1e-4:\n",
    "                    print('Warning: %s' % grad_diff)\n",
    "                else:\n",
    "                    print('PROBLEM: %s' % grad_diff)\n",
    "\n",
    "                delta_w1, delta_w2 = self.eta * grad1, self.eta * grad2\n",
    "                self.w1 -= (delta_w1 + (self.alpha * delta_w1_prev)) # note: it would have been enough to use just self.w1 -= delta_w1; but using the rest could make it a bit faster\n",
    "                self.w2 -= (delta_w2 + (self.alpha * delta_w2_prev))\n",
    "                delta_w1_prev, delta_w2_prev = delta_w1, delta_w2\n",
    "\n",
    "        return self"
   ]
  },
  {
   "cell_type": "code",
   "execution_count": 206,
   "metadata": {},
   "outputs": [
    {
     "name": "stdout",
     "output_type": "stream",
     "text": [
      "Ok: 3.2266708818414153e-10\n",
      "Ok: 2.939315652918025e-10\n",
      "Ok: 2.212584556771401e-10\n",
      "Ok: 2.803962375609673e-10\n",
      "Ok: 3.2494748397307596e-10\n",
      "Ok: 3.5689402276267257e-10\n",
      "Ok: 2.8624366605863343e-10\n",
      "Ok: 2.5598315473489577e-10\n",
      "Ok: 2.670816417305694e-10\n",
      "Ok: 2.303173303714231e-10\n"
     ]
    },
    {
     "data": {
      "text/plain": [
       "<__main__.NeuralNetMLP at 0x104308b70>"
      ]
     },
     "execution_count": 206,
     "metadata": {},
     "output_type": "execute_result"
    }
   ],
   "source": [
    "nn_check = NeuralNetMLP(\n",
    "  n_output=10,\n",
    "  n_features=X_train.shape[1],\n",
    "  n_hidden=10,\n",
    "  l2=0.0,\n",
    "  l1=0.0,\n",
    "  epochs=10,\n",
    "  eta=0.001,\n",
    "  alpha=0.001,\n",
    "  decrease_const=0.0,\n",
    "  shuffle=True,\n",
    "  minibatches=1,\n",
    "  random_state=1\n",
    ")\n",
    "nn_check.fit(X_train[:5], y_train[:5], print_progress=False)"
   ]
  },
  {
   "cell_type": "code",
   "execution_count": null,
   "metadata": {},
   "outputs": [],
   "source": []
  }
 ],
 "metadata": {
  "kernelspec": {
   "display_name": "Python 3",
   "language": "python",
   "name": "python3"
  },
  "language_info": {
   "codemirror_mode": {
    "name": "ipython",
    "version": 3
   },
   "file_extension": ".py",
   "mimetype": "text/x-python",
   "name": "python",
   "nbconvert_exporter": "python",
   "pygments_lexer": "ipython3",
   "version": "3.7.2"
  }
 },
 "nbformat": 4,
 "nbformat_minor": 2
}
